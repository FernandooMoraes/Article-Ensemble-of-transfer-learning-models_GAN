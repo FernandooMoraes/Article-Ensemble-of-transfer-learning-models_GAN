{
  "nbformat": 4,
  "nbformat_minor": 0,
  "metadata": {
    "colab": {
      "provenance": [],
      "authorship_tag": "ABX9TyNFK5s7lkCdZA6JLYypVz5A",
      "include_colab_link": true
    },
    "kernelspec": {
      "name": "python3",
      "display_name": "Python 3"
    },
    "language_info": {
      "name": "python"
    }
  },
  "cells": [
    {
      "cell_type": "markdown",
      "metadata": {
        "id": "view-in-github",
        "colab_type": "text"
      },
      "source": [
        "<a href=\"https://colab.research.google.com/github/FernandooMoraes/Article-Ensemble-of-transfer-learning-models/blob/main/kfold_under_over.ipynb\" target=\"_parent\"><img src=\"https://colab.research.google.com/assets/colab-badge.svg\" alt=\"Open In Colab\"/></a>"
      ]
    },
    {
      "cell_type": "code",
      "execution_count": null,
      "metadata": {
        "id": "kq4G1FujJi6h"
      },
      "outputs": [],
      "source": [
        "import matplotlib.pyplot as plt\n",
        "import pandas as pd\n",
        "\n",
        "from sklearn.model_selection import cross_val_score # Cross Validation Function.\n",
        "from sklearn.model_selection import KFold # KFold Class.\n",
        "from sklearn.linear_model import LinearRegression # Linear Regression class."
      ]
    },
    {
      "cell_type": "code",
      "source": [
        "df = pd.read_csv(\"/content/ISBI2016_ISIC_Part3_Training_GroundTruth.csv\", sep = \" \")"
      ],
      "metadata": {
        "id": "sHApAkZzJ9Wj"
      },
      "execution_count": null,
      "outputs": []
    },
    {
      "cell_type": "code",
      "source": [
        "y = df['image']"
      ],
      "metadata": {
        "id": "3zcBQVLMKxa8"
      },
      "execution_count": null,
      "outputs": []
    },
    {
      "cell_type": "code",
      "source": [
        "X=df['Class']"
      ],
      "metadata": {
        "id": "TpW1eAxeMSZb"
      },
      "execution_count": null,
      "outputs": []
    },
    {
      "cell_type": "code",
      "source": [
        "kf =KFold(n_splits=10, shuffle=True, random_state=42)"
      ],
      "metadata": {
        "id": "vYbG4dyOMNVC"
      },
      "execution_count": null,
      "outputs": []
    },
    {
      "cell_type": "code",
      "source": [
        "cnt = 0"
      ],
      "metadata": {
        "id": "6qSYEzxvMO5r"
      },
      "execution_count": null,
      "outputs": []
    },
    {
      "cell_type": "code",
      "source": [
        "import numpy as np\n",
        "dadoskfold = np.zeros((900,10), dtype=np.float64)\n",
        "dadoskfold=pd.DataFrame(dadoskfold)"
      ],
      "metadata": {
        "id": "NTKjTBkBNIbb"
      },
      "execution_count": null,
      "outputs": []
    },
    {
      "cell_type": "code",
      "source": [
        "rotulos = np.zeros((900,10), dtype=np.float64)\n",
        "rotulos=pd.DataFrame(rotulos)"
      ],
      "metadata": {
        "id": "L7fP7v-5YhPM"
      },
      "execution_count": null,
      "outputs": []
    },
    {
      "cell_type": "code",
      "source": [
        "for train_index, test_index in kf.split(X, y):\n",
        "    for i in range(810):\n",
        "        dadoskfold[cnt].iloc[i]=df['image'].iloc[[train_index[i]]]\n",
        "        rotulos[cnt].iloc[i]=df['Class'].iloc[[train_index[i]]]\n",
        "    for j in range(90):\n",
        "        dadoskfold[cnt].iloc[810+j]=df['image'].iloc[[test_index[j]]]\n",
        "        rotulos[cnt].iloc[810+j]=df['Class'].iloc[[test_index[j]]]\n",
        "    print(f'Fold:{cnt}, Train set: {len(train_index)}, Test set:{len(test_index)}')\n",
        "    cnt += 1"
      ],
      "metadata": {
        "colab": {
          "base_uri": "https://localhost:8080/"
        },
        "id": "cftMiOuiUnlz",
        "outputId": "e3c2b0fd-d0be-496c-d3d0-2c808cbaf010"
      },
      "execution_count": null,
      "outputs": [
        {
          "output_type": "stream",
          "name": "stdout",
          "text": [
            "Fold:0, Train set: 810, Test set:90\n",
            "Fold:1, Train set: 810, Test set:90\n"
          ]
        },
        {
          "output_type": "stream",
          "name": "stderr",
          "text": [
            "<ipython-input-11-73deee323f5a>:3: SettingWithCopyWarning: \n",
            "A value is trying to be set on a copy of a slice from a DataFrame\n",
            "\n",
            "See the caveats in the documentation: https://pandas.pydata.org/pandas-docs/stable/user_guide/indexing.html#returning-a-view-versus-a-copy\n",
            "  dadoskfold[cnt].iloc[i]=df['image'].iloc[[train_index[i]]]\n",
            "<ipython-input-11-73deee323f5a>:4: SettingWithCopyWarning: \n",
            "A value is trying to be set on a copy of a slice from a DataFrame\n",
            "\n",
            "See the caveats in the documentation: https://pandas.pydata.org/pandas-docs/stable/user_guide/indexing.html#returning-a-view-versus-a-copy\n",
            "  rotulos[cnt].iloc[i]=df['Class'].iloc[[train_index[i]]]\n"
          ]
        },
        {
          "output_type": "stream",
          "name": "stdout",
          "text": [
            "Fold:2, Train set: 810, Test set:90\n",
            "Fold:3, Train set: 810, Test set:90\n",
            "Fold:4, Train set: 810, Test set:90\n",
            "Fold:5, Train set: 810, Test set:90\n",
            "Fold:6, Train set: 810, Test set:90\n",
            "Fold:7, Train set: 810, Test set:90\n",
            "Fold:8, Train set: 810, Test set:90\n",
            "Fold:9, Train set: 810, Test set:90\n"
          ]
        }
      ]
    },
    {
      "cell_type": "code",
      "source": [
        "dadoskfold"
      ],
      "metadata": {
        "colab": {
          "base_uri": "https://localhost:8080/",
          "height": 424
        },
        "id": "bC2-CXJyUtRj",
        "outputId": "4a35fe8b-87a0-48e8-db54-48e0367b11eb"
      },
      "execution_count": null,
      "outputs": [
        {
          "output_type": "execute_result",
          "data": {
            "text/plain": [
              "                  0               1               2               3  \\\n",
              "0    [ISIC_0000000]  [ISIC_0000000]  [ISIC_0000000]  [ISIC_0000000]   \n",
              "1    [ISIC_0000001]  [ISIC_0000001]  [ISIC_0000001]  [ISIC_0000001]   \n",
              "2    [ISIC_0000002]  [ISIC_0000002]  [ISIC_0000004]  [ISIC_0000002]   \n",
              "3    [ISIC_0000004]  [ISIC_0000004]  [ISIC_0000006]  [ISIC_0000004]   \n",
              "4    [ISIC_0000006]  [ISIC_0000006]  [ISIC_0000007]  [ISIC_0000006]   \n",
              "..              ...             ...             ...             ...   \n",
              "895  [ISIC_0011173]  [ISIC_0011366]  [ISIC_0011229]  [ISIC_0011228]   \n",
              "896  [ISIC_0011199]  [ISIC_0011383]  [ISIC_0011299]  [ISIC_0011327]   \n",
              "897  [ISIC_0011208]  [ISIC_0011390]  [ISIC_0011328]  [ISIC_0011329]   \n",
              "898  [ISIC_0011215]  [ISIC_0011393]  [ISIC_0011354]  [ISIC_0011372]   \n",
              "899  [ISIC_0011226]  [ISIC_0011398]  [ISIC_0011387]  [ISIC_0011380]   \n",
              "\n",
              "                  4               5               6               7  \\\n",
              "0    [ISIC_0000000]  [ISIC_0000001]  [ISIC_0000000]  [ISIC_0000000]   \n",
              "1    [ISIC_0000001]  [ISIC_0000002]  [ISIC_0000001]  [ISIC_0000001]   \n",
              "2    [ISIC_0000002]  [ISIC_0000004]  [ISIC_0000002]  [ISIC_0000002]   \n",
              "3    [ISIC_0000006]  [ISIC_0000006]  [ISIC_0000004]  [ISIC_0000004]   \n",
              "4    [ISIC_0000007]  [ISIC_0000007]  [ISIC_0000006]  [ISIC_0000006]   \n",
              "..              ...             ...             ...             ...   \n",
              "895  [ISIC_0011296]  [ISIC_0011315]  [ISIC_0011339]  [ISIC_0011324]   \n",
              "896  [ISIC_0011356]  [ISIC_0011334]  [ISIC_0011341]  [ISIC_0011346]   \n",
              "897  [ISIC_0011361]  [ISIC_0011350]  [ISIC_0011343]  [ISIC_0011347]   \n",
              "898  [ISIC_0011378]  [ISIC_0011382]  [ISIC_0011360]  [ISIC_0011358]   \n",
              "899  [ISIC_0011400]  [ISIC_0011402]  [ISIC_0011362]  [ISIC_0011373]   \n",
              "\n",
              "                  8               9  \n",
              "0    [ISIC_0000000]  [ISIC_0000000]  \n",
              "1    [ISIC_0000001]  [ISIC_0000002]  \n",
              "2    [ISIC_0000002]  [ISIC_0000004]  \n",
              "3    [ISIC_0000004]  [ISIC_0000006]  \n",
              "4    [ISIC_0000007]  [ISIC_0000007]  \n",
              "..              ...             ...  \n",
              "895  [ISIC_0011230]  [ISIC_0011317]  \n",
              "896  [ISIC_0011323]  [ISIC_0011326]  \n",
              "897  [ISIC_0011352]  [ISIC_0011345]  \n",
              "898  [ISIC_0011353]  [ISIC_0011357]  \n",
              "899  [ISIC_0011397]  [ISIC_0011385]  \n",
              "\n",
              "[900 rows x 10 columns]"
            ],
            "text/html": [
              "\n",
              "\n",
              "  <div id=\"df-a80c0d67-4fc7-42a0-8c74-d493ec19b123\">\n",
              "    <div class=\"colab-df-container\">\n",
              "      <div>\n",
              "<style scoped>\n",
              "    .dataframe tbody tr th:only-of-type {\n",
              "        vertical-align: middle;\n",
              "    }\n",
              "\n",
              "    .dataframe tbody tr th {\n",
              "        vertical-align: top;\n",
              "    }\n",
              "\n",
              "    .dataframe thead th {\n",
              "        text-align: right;\n",
              "    }\n",
              "</style>\n",
              "<table border=\"1\" class=\"dataframe\">\n",
              "  <thead>\n",
              "    <tr style=\"text-align: right;\">\n",
              "      <th></th>\n",
              "      <th>0</th>\n",
              "      <th>1</th>\n",
              "      <th>2</th>\n",
              "      <th>3</th>\n",
              "      <th>4</th>\n",
              "      <th>5</th>\n",
              "      <th>6</th>\n",
              "      <th>7</th>\n",
              "      <th>8</th>\n",
              "      <th>9</th>\n",
              "    </tr>\n",
              "  </thead>\n",
              "  <tbody>\n",
              "    <tr>\n",
              "      <th>0</th>\n",
              "      <td>[ISIC_0000000]</td>\n",
              "      <td>[ISIC_0000000]</td>\n",
              "      <td>[ISIC_0000000]</td>\n",
              "      <td>[ISIC_0000000]</td>\n",
              "      <td>[ISIC_0000000]</td>\n",
              "      <td>[ISIC_0000001]</td>\n",
              "      <td>[ISIC_0000000]</td>\n",
              "      <td>[ISIC_0000000]</td>\n",
              "      <td>[ISIC_0000000]</td>\n",
              "      <td>[ISIC_0000000]</td>\n",
              "    </tr>\n",
              "    <tr>\n",
              "      <th>1</th>\n",
              "      <td>[ISIC_0000001]</td>\n",
              "      <td>[ISIC_0000001]</td>\n",
              "      <td>[ISIC_0000001]</td>\n",
              "      <td>[ISIC_0000001]</td>\n",
              "      <td>[ISIC_0000001]</td>\n",
              "      <td>[ISIC_0000002]</td>\n",
              "      <td>[ISIC_0000001]</td>\n",
              "      <td>[ISIC_0000001]</td>\n",
              "      <td>[ISIC_0000001]</td>\n",
              "      <td>[ISIC_0000002]</td>\n",
              "    </tr>\n",
              "    <tr>\n",
              "      <th>2</th>\n",
              "      <td>[ISIC_0000002]</td>\n",
              "      <td>[ISIC_0000002]</td>\n",
              "      <td>[ISIC_0000004]</td>\n",
              "      <td>[ISIC_0000002]</td>\n",
              "      <td>[ISIC_0000002]</td>\n",
              "      <td>[ISIC_0000004]</td>\n",
              "      <td>[ISIC_0000002]</td>\n",
              "      <td>[ISIC_0000002]</td>\n",
              "      <td>[ISIC_0000002]</td>\n",
              "      <td>[ISIC_0000004]</td>\n",
              "    </tr>\n",
              "    <tr>\n",
              "      <th>3</th>\n",
              "      <td>[ISIC_0000004]</td>\n",
              "      <td>[ISIC_0000004]</td>\n",
              "      <td>[ISIC_0000006]</td>\n",
              "      <td>[ISIC_0000004]</td>\n",
              "      <td>[ISIC_0000006]</td>\n",
              "      <td>[ISIC_0000006]</td>\n",
              "      <td>[ISIC_0000004]</td>\n",
              "      <td>[ISIC_0000004]</td>\n",
              "      <td>[ISIC_0000004]</td>\n",
              "      <td>[ISIC_0000006]</td>\n",
              "    </tr>\n",
              "    <tr>\n",
              "      <th>4</th>\n",
              "      <td>[ISIC_0000006]</td>\n",
              "      <td>[ISIC_0000006]</td>\n",
              "      <td>[ISIC_0000007]</td>\n",
              "      <td>[ISIC_0000006]</td>\n",
              "      <td>[ISIC_0000007]</td>\n",
              "      <td>[ISIC_0000007]</td>\n",
              "      <td>[ISIC_0000006]</td>\n",
              "      <td>[ISIC_0000006]</td>\n",
              "      <td>[ISIC_0000007]</td>\n",
              "      <td>[ISIC_0000007]</td>\n",
              "    </tr>\n",
              "    <tr>\n",
              "      <th>...</th>\n",
              "      <td>...</td>\n",
              "      <td>...</td>\n",
              "      <td>...</td>\n",
              "      <td>...</td>\n",
              "      <td>...</td>\n",
              "      <td>...</td>\n",
              "      <td>...</td>\n",
              "      <td>...</td>\n",
              "      <td>...</td>\n",
              "      <td>...</td>\n",
              "    </tr>\n",
              "    <tr>\n",
              "      <th>895</th>\n",
              "      <td>[ISIC_0011173]</td>\n",
              "      <td>[ISIC_0011366]</td>\n",
              "      <td>[ISIC_0011229]</td>\n",
              "      <td>[ISIC_0011228]</td>\n",
              "      <td>[ISIC_0011296]</td>\n",
              "      <td>[ISIC_0011315]</td>\n",
              "      <td>[ISIC_0011339]</td>\n",
              "      <td>[ISIC_0011324]</td>\n",
              "      <td>[ISIC_0011230]</td>\n",
              "      <td>[ISIC_0011317]</td>\n",
              "    </tr>\n",
              "    <tr>\n",
              "      <th>896</th>\n",
              "      <td>[ISIC_0011199]</td>\n",
              "      <td>[ISIC_0011383]</td>\n",
              "      <td>[ISIC_0011299]</td>\n",
              "      <td>[ISIC_0011327]</td>\n",
              "      <td>[ISIC_0011356]</td>\n",
              "      <td>[ISIC_0011334]</td>\n",
              "      <td>[ISIC_0011341]</td>\n",
              "      <td>[ISIC_0011346]</td>\n",
              "      <td>[ISIC_0011323]</td>\n",
              "      <td>[ISIC_0011326]</td>\n",
              "    </tr>\n",
              "    <tr>\n",
              "      <th>897</th>\n",
              "      <td>[ISIC_0011208]</td>\n",
              "      <td>[ISIC_0011390]</td>\n",
              "      <td>[ISIC_0011328]</td>\n",
              "      <td>[ISIC_0011329]</td>\n",
              "      <td>[ISIC_0011361]</td>\n",
              "      <td>[ISIC_0011350]</td>\n",
              "      <td>[ISIC_0011343]</td>\n",
              "      <td>[ISIC_0011347]</td>\n",
              "      <td>[ISIC_0011352]</td>\n",
              "      <td>[ISIC_0011345]</td>\n",
              "    </tr>\n",
              "    <tr>\n",
              "      <th>898</th>\n",
              "      <td>[ISIC_0011215]</td>\n",
              "      <td>[ISIC_0011393]</td>\n",
              "      <td>[ISIC_0011354]</td>\n",
              "      <td>[ISIC_0011372]</td>\n",
              "      <td>[ISIC_0011378]</td>\n",
              "      <td>[ISIC_0011382]</td>\n",
              "      <td>[ISIC_0011360]</td>\n",
              "      <td>[ISIC_0011358]</td>\n",
              "      <td>[ISIC_0011353]</td>\n",
              "      <td>[ISIC_0011357]</td>\n",
              "    </tr>\n",
              "    <tr>\n",
              "      <th>899</th>\n",
              "      <td>[ISIC_0011226]</td>\n",
              "      <td>[ISIC_0011398]</td>\n",
              "      <td>[ISIC_0011387]</td>\n",
              "      <td>[ISIC_0011380]</td>\n",
              "      <td>[ISIC_0011400]</td>\n",
              "      <td>[ISIC_0011402]</td>\n",
              "      <td>[ISIC_0011362]</td>\n",
              "      <td>[ISIC_0011373]</td>\n",
              "      <td>[ISIC_0011397]</td>\n",
              "      <td>[ISIC_0011385]</td>\n",
              "    </tr>\n",
              "  </tbody>\n",
              "</table>\n",
              "<p>900 rows × 10 columns</p>\n",
              "</div>\n",
              "      <button class=\"colab-df-convert\" onclick=\"convertToInteractive('df-a80c0d67-4fc7-42a0-8c74-d493ec19b123')\"\n",
              "              title=\"Convert this dataframe to an interactive table.\"\n",
              "              style=\"display:none;\">\n",
              "\n",
              "  <svg xmlns=\"http://www.w3.org/2000/svg\" height=\"24px\"viewBox=\"0 0 24 24\"\n",
              "       width=\"24px\">\n",
              "    <path d=\"M0 0h24v24H0V0z\" fill=\"none\"/>\n",
              "    <path d=\"M18.56 5.44l.94 2.06.94-2.06 2.06-.94-2.06-.94-.94-2.06-.94 2.06-2.06.94zm-11 1L8.5 8.5l.94-2.06 2.06-.94-2.06-.94L8.5 2.5l-.94 2.06-2.06.94zm10 10l.94 2.06.94-2.06 2.06-.94-2.06-.94-.94-2.06-.94 2.06-2.06.94z\"/><path d=\"M17.41 7.96l-1.37-1.37c-.4-.4-.92-.59-1.43-.59-.52 0-1.04.2-1.43.59L10.3 9.45l-7.72 7.72c-.78.78-.78 2.05 0 2.83L4 21.41c.39.39.9.59 1.41.59.51 0 1.02-.2 1.41-.59l7.78-7.78 2.81-2.81c.8-.78.8-2.07 0-2.86zM5.41 20L4 18.59l7.72-7.72 1.47 1.35L5.41 20z\"/>\n",
              "  </svg>\n",
              "      </button>\n",
              "\n",
              "\n",
              "\n",
              "    <div id=\"df-a9814edc-f9e3-4aeb-a50a-fd455c7516fe\">\n",
              "      <button class=\"colab-df-quickchart\" onclick=\"quickchart('df-a9814edc-f9e3-4aeb-a50a-fd455c7516fe')\"\n",
              "              title=\"Suggest charts.\"\n",
              "              style=\"display:none;\">\n",
              "\n",
              "<svg xmlns=\"http://www.w3.org/2000/svg\" height=\"24px\"viewBox=\"0 0 24 24\"\n",
              "     width=\"24px\">\n",
              "    <g>\n",
              "        <path d=\"M19 3H5c-1.1 0-2 .9-2 2v14c0 1.1.9 2 2 2h14c1.1 0 2-.9 2-2V5c0-1.1-.9-2-2-2zM9 17H7v-7h2v7zm4 0h-2V7h2v10zm4 0h-2v-4h2v4z\"/>\n",
              "    </g>\n",
              "</svg>\n",
              "      </button>\n",
              "    </div>\n",
              "\n",
              "<style>\n",
              "  .colab-df-quickchart {\n",
              "    background-color: #E8F0FE;\n",
              "    border: none;\n",
              "    border-radius: 50%;\n",
              "    cursor: pointer;\n",
              "    display: none;\n",
              "    fill: #1967D2;\n",
              "    height: 32px;\n",
              "    padding: 0 0 0 0;\n",
              "    width: 32px;\n",
              "  }\n",
              "\n",
              "  .colab-df-quickchart:hover {\n",
              "    background-color: #E2EBFA;\n",
              "    box-shadow: 0px 1px 2px rgba(60, 64, 67, 0.3), 0px 1px 3px 1px rgba(60, 64, 67, 0.15);\n",
              "    fill: #174EA6;\n",
              "  }\n",
              "\n",
              "  [theme=dark] .colab-df-quickchart {\n",
              "    background-color: #3B4455;\n",
              "    fill: #D2E3FC;\n",
              "  }\n",
              "\n",
              "  [theme=dark] .colab-df-quickchart:hover {\n",
              "    background-color: #434B5C;\n",
              "    box-shadow: 0px 1px 3px 1px rgba(0, 0, 0, 0.15);\n",
              "    filter: drop-shadow(0px 1px 2px rgba(0, 0, 0, 0.3));\n",
              "    fill: #FFFFFF;\n",
              "  }\n",
              "</style>\n",
              "\n",
              "    <script>\n",
              "      async function quickchart(key) {\n",
              "        const containerElement = document.querySelector('#' + key);\n",
              "        const charts = await google.colab.kernel.invokeFunction(\n",
              "            'suggestCharts', [key], {});\n",
              "      }\n",
              "    </script>\n",
              "\n",
              "      <script>\n",
              "\n",
              "function displayQuickchartButton(domScope) {\n",
              "  let quickchartButtonEl =\n",
              "    domScope.querySelector('#df-a9814edc-f9e3-4aeb-a50a-fd455c7516fe button.colab-df-quickchart');\n",
              "  quickchartButtonEl.style.display =\n",
              "    google.colab.kernel.accessAllowed ? 'block' : 'none';\n",
              "}\n",
              "\n",
              "        displayQuickchartButton(document);\n",
              "      </script>\n",
              "      <style>\n",
              "    .colab-df-container {\n",
              "      display:flex;\n",
              "      flex-wrap:wrap;\n",
              "      gap: 12px;\n",
              "    }\n",
              "\n",
              "    .colab-df-convert {\n",
              "      background-color: #E8F0FE;\n",
              "      border: none;\n",
              "      border-radius: 50%;\n",
              "      cursor: pointer;\n",
              "      display: none;\n",
              "      fill: #1967D2;\n",
              "      height: 32px;\n",
              "      padding: 0 0 0 0;\n",
              "      width: 32px;\n",
              "    }\n",
              "\n",
              "    .colab-df-convert:hover {\n",
              "      background-color: #E2EBFA;\n",
              "      box-shadow: 0px 1px 2px rgba(60, 64, 67, 0.3), 0px 1px 3px 1px rgba(60, 64, 67, 0.15);\n",
              "      fill: #174EA6;\n",
              "    }\n",
              "\n",
              "    [theme=dark] .colab-df-convert {\n",
              "      background-color: #3B4455;\n",
              "      fill: #D2E3FC;\n",
              "    }\n",
              "\n",
              "    [theme=dark] .colab-df-convert:hover {\n",
              "      background-color: #434B5C;\n",
              "      box-shadow: 0px 1px 3px 1px rgba(0, 0, 0, 0.15);\n",
              "      filter: drop-shadow(0px 1px 2px rgba(0, 0, 0, 0.3));\n",
              "      fill: #FFFFFF;\n",
              "    }\n",
              "  </style>\n",
              "\n",
              "      <script>\n",
              "        const buttonEl =\n",
              "          document.querySelector('#df-a80c0d67-4fc7-42a0-8c74-d493ec19b123 button.colab-df-convert');\n",
              "        buttonEl.style.display =\n",
              "          google.colab.kernel.accessAllowed ? 'block' : 'none';\n",
              "\n",
              "        async function convertToInteractive(key) {\n",
              "          const element = document.querySelector('#df-a80c0d67-4fc7-42a0-8c74-d493ec19b123');\n",
              "          const dataTable =\n",
              "            await google.colab.kernel.invokeFunction('convertToInteractive',\n",
              "                                                     [key], {});\n",
              "          if (!dataTable) return;\n",
              "\n",
              "          const docLinkHtml = 'Like what you see? Visit the ' +\n",
              "            '<a target=\"_blank\" href=https://colab.research.google.com/notebooks/data_table.ipynb>data table notebook</a>'\n",
              "            + ' to learn more about interactive tables.';\n",
              "          element.innerHTML = '';\n",
              "          dataTable['output_type'] = 'display_data';\n",
              "          await google.colab.output.renderOutput(dataTable, element);\n",
              "          const docLink = document.createElement('div');\n",
              "          docLink.innerHTML = docLinkHtml;\n",
              "          element.appendChild(docLink);\n",
              "        }\n",
              "      </script>\n",
              "    </div>\n",
              "  </div>\n"
            ]
          },
          "metadata": {},
          "execution_count": 12
        }
      ]
    },
    {
      "cell_type": "code",
      "source": [
        "rotulos"
      ],
      "metadata": {
        "colab": {
          "base_uri": "https://localhost:8080/",
          "height": 424
        },
        "id": "zJCyG3p3isZS",
        "outputId": "4cae2cf5-133c-432e-a9a8-71fb124b4a4d"
      },
      "execution_count": null,
      "outputs": [
        {
          "output_type": "execute_result",
          "data": {
            "text/plain": [
              "              0           1           2           3           4           5  \\\n",
              "0      [benign]    [benign]    [benign]    [benign]    [benign]    [benign]   \n",
              "1      [benign]    [benign]    [benign]    [benign]    [benign]  [malignan]   \n",
              "2    [malignan]  [malignan]  [malignan]  [malignan]  [malignan]  [malignan]   \n",
              "3    [malignan]  [malignan]    [benign]  [malignan]    [benign]    [benign]   \n",
              "4      [benign]    [benign]    [benign]    [benign]    [benign]    [benign]   \n",
              "..          ...         ...         ...         ...         ...         ...   \n",
              "895    [benign]  [malignan]    [benign]    [benign]    [benign]  [malignan]   \n",
              "896    [benign]    [benign]    [benign]    [benign]  [malignan]  [malignan]   \n",
              "897    [benign]  [malignan]    [benign]  [malignan]    [benign]  [malignan]   \n",
              "898    [benign]    [benign]    [benign]    [benign]    [benign]    [benign]   \n",
              "899    [benign]    [benign]  [malignan]    [benign]    [benign]    [benign]   \n",
              "\n",
              "              6           7           8           9  \n",
              "0      [benign]    [benign]    [benign]    [benign]  \n",
              "1      [benign]    [benign]    [benign]  [malignan]  \n",
              "2    [malignan]  [malignan]  [malignan]  [malignan]  \n",
              "3    [malignan]  [malignan]  [malignan]    [benign]  \n",
              "4      [benign]    [benign]    [benign]    [benign]  \n",
              "..          ...         ...         ...         ...  \n",
              "895    [benign]    [benign]    [benign]    [benign]  \n",
              "896    [benign]    [benign]    [benign]    [benign]  \n",
              "897    [benign]    [benign]    [benign]    [benign]  \n",
              "898    [benign]    [benign]    [benign]    [benign]  \n",
              "899    [benign]    [benign]    [benign]    [benign]  \n",
              "\n",
              "[900 rows x 10 columns]"
            ],
            "text/html": [
              "\n",
              "\n",
              "  <div id=\"df-9f1504b2-3044-4c6a-91e0-dd297657ce8a\">\n",
              "    <div class=\"colab-df-container\">\n",
              "      <div>\n",
              "<style scoped>\n",
              "    .dataframe tbody tr th:only-of-type {\n",
              "        vertical-align: middle;\n",
              "    }\n",
              "\n",
              "    .dataframe tbody tr th {\n",
              "        vertical-align: top;\n",
              "    }\n",
              "\n",
              "    .dataframe thead th {\n",
              "        text-align: right;\n",
              "    }\n",
              "</style>\n",
              "<table border=\"1\" class=\"dataframe\">\n",
              "  <thead>\n",
              "    <tr style=\"text-align: right;\">\n",
              "      <th></th>\n",
              "      <th>0</th>\n",
              "      <th>1</th>\n",
              "      <th>2</th>\n",
              "      <th>3</th>\n",
              "      <th>4</th>\n",
              "      <th>5</th>\n",
              "      <th>6</th>\n",
              "      <th>7</th>\n",
              "      <th>8</th>\n",
              "      <th>9</th>\n",
              "    </tr>\n",
              "  </thead>\n",
              "  <tbody>\n",
              "    <tr>\n",
              "      <th>0</th>\n",
              "      <td>[benign]</td>\n",
              "      <td>[benign]</td>\n",
              "      <td>[benign]</td>\n",
              "      <td>[benign]</td>\n",
              "      <td>[benign]</td>\n",
              "      <td>[benign]</td>\n",
              "      <td>[benign]</td>\n",
              "      <td>[benign]</td>\n",
              "      <td>[benign]</td>\n",
              "      <td>[benign]</td>\n",
              "    </tr>\n",
              "    <tr>\n",
              "      <th>1</th>\n",
              "      <td>[benign]</td>\n",
              "      <td>[benign]</td>\n",
              "      <td>[benign]</td>\n",
              "      <td>[benign]</td>\n",
              "      <td>[benign]</td>\n",
              "      <td>[malignan]</td>\n",
              "      <td>[benign]</td>\n",
              "      <td>[benign]</td>\n",
              "      <td>[benign]</td>\n",
              "      <td>[malignan]</td>\n",
              "    </tr>\n",
              "    <tr>\n",
              "      <th>2</th>\n",
              "      <td>[malignan]</td>\n",
              "      <td>[malignan]</td>\n",
              "      <td>[malignan]</td>\n",
              "      <td>[malignan]</td>\n",
              "      <td>[malignan]</td>\n",
              "      <td>[malignan]</td>\n",
              "      <td>[malignan]</td>\n",
              "      <td>[malignan]</td>\n",
              "      <td>[malignan]</td>\n",
              "      <td>[malignan]</td>\n",
              "    </tr>\n",
              "    <tr>\n",
              "      <th>3</th>\n",
              "      <td>[malignan]</td>\n",
              "      <td>[malignan]</td>\n",
              "      <td>[benign]</td>\n",
              "      <td>[malignan]</td>\n",
              "      <td>[benign]</td>\n",
              "      <td>[benign]</td>\n",
              "      <td>[malignan]</td>\n",
              "      <td>[malignan]</td>\n",
              "      <td>[malignan]</td>\n",
              "      <td>[benign]</td>\n",
              "    </tr>\n",
              "    <tr>\n",
              "      <th>4</th>\n",
              "      <td>[benign]</td>\n",
              "      <td>[benign]</td>\n",
              "      <td>[benign]</td>\n",
              "      <td>[benign]</td>\n",
              "      <td>[benign]</td>\n",
              "      <td>[benign]</td>\n",
              "      <td>[benign]</td>\n",
              "      <td>[benign]</td>\n",
              "      <td>[benign]</td>\n",
              "      <td>[benign]</td>\n",
              "    </tr>\n",
              "    <tr>\n",
              "      <th>...</th>\n",
              "      <td>...</td>\n",
              "      <td>...</td>\n",
              "      <td>...</td>\n",
              "      <td>...</td>\n",
              "      <td>...</td>\n",
              "      <td>...</td>\n",
              "      <td>...</td>\n",
              "      <td>...</td>\n",
              "      <td>...</td>\n",
              "      <td>...</td>\n",
              "    </tr>\n",
              "    <tr>\n",
              "      <th>895</th>\n",
              "      <td>[benign]</td>\n",
              "      <td>[malignan]</td>\n",
              "      <td>[benign]</td>\n",
              "      <td>[benign]</td>\n",
              "      <td>[benign]</td>\n",
              "      <td>[malignan]</td>\n",
              "      <td>[benign]</td>\n",
              "      <td>[benign]</td>\n",
              "      <td>[benign]</td>\n",
              "      <td>[benign]</td>\n",
              "    </tr>\n",
              "    <tr>\n",
              "      <th>896</th>\n",
              "      <td>[benign]</td>\n",
              "      <td>[benign]</td>\n",
              "      <td>[benign]</td>\n",
              "      <td>[benign]</td>\n",
              "      <td>[malignan]</td>\n",
              "      <td>[malignan]</td>\n",
              "      <td>[benign]</td>\n",
              "      <td>[benign]</td>\n",
              "      <td>[benign]</td>\n",
              "      <td>[benign]</td>\n",
              "    </tr>\n",
              "    <tr>\n",
              "      <th>897</th>\n",
              "      <td>[benign]</td>\n",
              "      <td>[malignan]</td>\n",
              "      <td>[benign]</td>\n",
              "      <td>[malignan]</td>\n",
              "      <td>[benign]</td>\n",
              "      <td>[malignan]</td>\n",
              "      <td>[benign]</td>\n",
              "      <td>[benign]</td>\n",
              "      <td>[benign]</td>\n",
              "      <td>[benign]</td>\n",
              "    </tr>\n",
              "    <tr>\n",
              "      <th>898</th>\n",
              "      <td>[benign]</td>\n",
              "      <td>[benign]</td>\n",
              "      <td>[benign]</td>\n",
              "      <td>[benign]</td>\n",
              "      <td>[benign]</td>\n",
              "      <td>[benign]</td>\n",
              "      <td>[benign]</td>\n",
              "      <td>[benign]</td>\n",
              "      <td>[benign]</td>\n",
              "      <td>[benign]</td>\n",
              "    </tr>\n",
              "    <tr>\n",
              "      <th>899</th>\n",
              "      <td>[benign]</td>\n",
              "      <td>[benign]</td>\n",
              "      <td>[malignan]</td>\n",
              "      <td>[benign]</td>\n",
              "      <td>[benign]</td>\n",
              "      <td>[benign]</td>\n",
              "      <td>[benign]</td>\n",
              "      <td>[benign]</td>\n",
              "      <td>[benign]</td>\n",
              "      <td>[benign]</td>\n",
              "    </tr>\n",
              "  </tbody>\n",
              "</table>\n",
              "<p>900 rows × 10 columns</p>\n",
              "</div>\n",
              "      <button class=\"colab-df-convert\" onclick=\"convertToInteractive('df-9f1504b2-3044-4c6a-91e0-dd297657ce8a')\"\n",
              "              title=\"Convert this dataframe to an interactive table.\"\n",
              "              style=\"display:none;\">\n",
              "\n",
              "  <svg xmlns=\"http://www.w3.org/2000/svg\" height=\"24px\"viewBox=\"0 0 24 24\"\n",
              "       width=\"24px\">\n",
              "    <path d=\"M0 0h24v24H0V0z\" fill=\"none\"/>\n",
              "    <path d=\"M18.56 5.44l.94 2.06.94-2.06 2.06-.94-2.06-.94-.94-2.06-.94 2.06-2.06.94zm-11 1L8.5 8.5l.94-2.06 2.06-.94-2.06-.94L8.5 2.5l-.94 2.06-2.06.94zm10 10l.94 2.06.94-2.06 2.06-.94-2.06-.94-.94-2.06-.94 2.06-2.06.94z\"/><path d=\"M17.41 7.96l-1.37-1.37c-.4-.4-.92-.59-1.43-.59-.52 0-1.04.2-1.43.59L10.3 9.45l-7.72 7.72c-.78.78-.78 2.05 0 2.83L4 21.41c.39.39.9.59 1.41.59.51 0 1.02-.2 1.41-.59l7.78-7.78 2.81-2.81c.8-.78.8-2.07 0-2.86zM5.41 20L4 18.59l7.72-7.72 1.47 1.35L5.41 20z\"/>\n",
              "  </svg>\n",
              "      </button>\n",
              "\n",
              "\n",
              "\n",
              "    <div id=\"df-a0deb5bb-84fd-4f87-bfba-126944228469\">\n",
              "      <button class=\"colab-df-quickchart\" onclick=\"quickchart('df-a0deb5bb-84fd-4f87-bfba-126944228469')\"\n",
              "              title=\"Suggest charts.\"\n",
              "              style=\"display:none;\">\n",
              "\n",
              "<svg xmlns=\"http://www.w3.org/2000/svg\" height=\"24px\"viewBox=\"0 0 24 24\"\n",
              "     width=\"24px\">\n",
              "    <g>\n",
              "        <path d=\"M19 3H5c-1.1 0-2 .9-2 2v14c0 1.1.9 2 2 2h14c1.1 0 2-.9 2-2V5c0-1.1-.9-2-2-2zM9 17H7v-7h2v7zm4 0h-2V7h2v10zm4 0h-2v-4h2v4z\"/>\n",
              "    </g>\n",
              "</svg>\n",
              "      </button>\n",
              "    </div>\n",
              "\n",
              "<style>\n",
              "  .colab-df-quickchart {\n",
              "    background-color: #E8F0FE;\n",
              "    border: none;\n",
              "    border-radius: 50%;\n",
              "    cursor: pointer;\n",
              "    display: none;\n",
              "    fill: #1967D2;\n",
              "    height: 32px;\n",
              "    padding: 0 0 0 0;\n",
              "    width: 32px;\n",
              "  }\n",
              "\n",
              "  .colab-df-quickchart:hover {\n",
              "    background-color: #E2EBFA;\n",
              "    box-shadow: 0px 1px 2px rgba(60, 64, 67, 0.3), 0px 1px 3px 1px rgba(60, 64, 67, 0.15);\n",
              "    fill: #174EA6;\n",
              "  }\n",
              "\n",
              "  [theme=dark] .colab-df-quickchart {\n",
              "    background-color: #3B4455;\n",
              "    fill: #D2E3FC;\n",
              "  }\n",
              "\n",
              "  [theme=dark] .colab-df-quickchart:hover {\n",
              "    background-color: #434B5C;\n",
              "    box-shadow: 0px 1px 3px 1px rgba(0, 0, 0, 0.15);\n",
              "    filter: drop-shadow(0px 1px 2px rgba(0, 0, 0, 0.3));\n",
              "    fill: #FFFFFF;\n",
              "  }\n",
              "</style>\n",
              "\n",
              "    <script>\n",
              "      async function quickchart(key) {\n",
              "        const containerElement = document.querySelector('#' + key);\n",
              "        const charts = await google.colab.kernel.invokeFunction(\n",
              "            'suggestCharts', [key], {});\n",
              "      }\n",
              "    </script>\n",
              "\n",
              "      <script>\n",
              "\n",
              "function displayQuickchartButton(domScope) {\n",
              "  let quickchartButtonEl =\n",
              "    domScope.querySelector('#df-a0deb5bb-84fd-4f87-bfba-126944228469 button.colab-df-quickchart');\n",
              "  quickchartButtonEl.style.display =\n",
              "    google.colab.kernel.accessAllowed ? 'block' : 'none';\n",
              "}\n",
              "\n",
              "        displayQuickchartButton(document);\n",
              "      </script>\n",
              "      <style>\n",
              "    .colab-df-container {\n",
              "      display:flex;\n",
              "      flex-wrap:wrap;\n",
              "      gap: 12px;\n",
              "    }\n",
              "\n",
              "    .colab-df-convert {\n",
              "      background-color: #E8F0FE;\n",
              "      border: none;\n",
              "      border-radius: 50%;\n",
              "      cursor: pointer;\n",
              "      display: none;\n",
              "      fill: #1967D2;\n",
              "      height: 32px;\n",
              "      padding: 0 0 0 0;\n",
              "      width: 32px;\n",
              "    }\n",
              "\n",
              "    .colab-df-convert:hover {\n",
              "      background-color: #E2EBFA;\n",
              "      box-shadow: 0px 1px 2px rgba(60, 64, 67, 0.3), 0px 1px 3px 1px rgba(60, 64, 67, 0.15);\n",
              "      fill: #174EA6;\n",
              "    }\n",
              "\n",
              "    [theme=dark] .colab-df-convert {\n",
              "      background-color: #3B4455;\n",
              "      fill: #D2E3FC;\n",
              "    }\n",
              "\n",
              "    [theme=dark] .colab-df-convert:hover {\n",
              "      background-color: #434B5C;\n",
              "      box-shadow: 0px 1px 3px 1px rgba(0, 0, 0, 0.15);\n",
              "      filter: drop-shadow(0px 1px 2px rgba(0, 0, 0, 0.3));\n",
              "      fill: #FFFFFF;\n",
              "    }\n",
              "  </style>\n",
              "\n",
              "      <script>\n",
              "        const buttonEl =\n",
              "          document.querySelector('#df-9f1504b2-3044-4c6a-91e0-dd297657ce8a button.colab-df-convert');\n",
              "        buttonEl.style.display =\n",
              "          google.colab.kernel.accessAllowed ? 'block' : 'none';\n",
              "\n",
              "        async function convertToInteractive(key) {\n",
              "          const element = document.querySelector('#df-9f1504b2-3044-4c6a-91e0-dd297657ce8a');\n",
              "          const dataTable =\n",
              "            await google.colab.kernel.invokeFunction('convertToInteractive',\n",
              "                                                     [key], {});\n",
              "          if (!dataTable) return;\n",
              "\n",
              "          const docLinkHtml = 'Like what you see? Visit the ' +\n",
              "            '<a target=\"_blank\" href=https://colab.research.google.com/notebooks/data_table.ipynb>data table notebook</a>'\n",
              "            + ' to learn more about interactive tables.';\n",
              "          element.innerHTML = '';\n",
              "          dataTable['output_type'] = 'display_data';\n",
              "          await google.colab.output.renderOutput(dataTable, element);\n",
              "          const docLink = document.createElement('div');\n",
              "          docLink.innerHTML = docLinkHtml;\n",
              "          element.appendChild(docLink);\n",
              "        }\n",
              "      </script>\n",
              "    </div>\n",
              "  </div>\n"
            ]
          },
          "metadata": {},
          "execution_count": 13
        }
      ]
    },
    {
      "cell_type": "code",
      "source": [
        "pd.DataFrame.to_csv(dadoskfold,'dadoskfold.csv', sep=',', index=False, encoding='utf-8')\n",
        "pd.DataFrame.to_csv(rotulos,'rotulos.csv', sep=',', index=False, encoding='utf-8')"
      ],
      "metadata": {
        "id": "7Se_8jgwWQJz"
      },
      "execution_count": null,
      "outputs": []
    },
    {
      "cell_type": "code",
      "source": [
        "from google.colab import files\n",
        "files.download(\"dadoskfold.csv\")\n",
        "files.download(\"rotulos.csv\")"
      ],
      "metadata": {
        "colab": {
          "base_uri": "https://localhost:8080/",
          "height": 52
        },
        "id": "I-P7RY-uX568",
        "outputId": "d1d09a94-d40a-44a3-ed8c-ea75afa3d0c4"
      },
      "execution_count": null,
      "outputs": [
        {
          "output_type": "display_data",
          "data": {
            "text/plain": [
              "<IPython.core.display.Javascript object>"
            ],
            "application/javascript": [
              "\n",
              "    async function download(id, filename, size) {\n",
              "      if (!google.colab.kernel.accessAllowed) {\n",
              "        return;\n",
              "      }\n",
              "      const div = document.createElement('div');\n",
              "      const label = document.createElement('label');\n",
              "      label.textContent = `Downloading \"${filename}\": `;\n",
              "      div.appendChild(label);\n",
              "      const progress = document.createElement('progress');\n",
              "      progress.max = size;\n",
              "      div.appendChild(progress);\n",
              "      document.body.appendChild(div);\n",
              "\n",
              "      const buffers = [];\n",
              "      let downloaded = 0;\n",
              "\n",
              "      const channel = await google.colab.kernel.comms.open(id);\n",
              "      // Send a message to notify the kernel that we're ready.\n",
              "      channel.send({})\n",
              "\n",
              "      for await (const message of channel.messages) {\n",
              "        // Send a message to notify the kernel that we're ready.\n",
              "        channel.send({})\n",
              "        if (message.buffers) {\n",
              "          for (const buffer of message.buffers) {\n",
              "            buffers.push(buffer);\n",
              "            downloaded += buffer.byteLength;\n",
              "            progress.value = downloaded;\n",
              "          }\n",
              "        }\n",
              "      }\n",
              "      const blob = new Blob(buffers, {type: 'application/binary'});\n",
              "      const a = document.createElement('a');\n",
              "      a.href = window.URL.createObjectURL(blob);\n",
              "      a.download = filename;\n",
              "      div.appendChild(a);\n",
              "      a.click();\n",
              "      div.remove();\n",
              "    }\n",
              "  "
            ]
          },
          "metadata": {}
        },
        {
          "output_type": "display_data",
          "data": {
            "text/plain": [
              "<IPython.core.display.Javascript object>"
            ],
            "application/javascript": [
              "download(\"download_6c54ab8e-4d08-4e97-9230-fc6fd43a29cc\", \"dadoskfold.csv\", 153020)"
            ]
          },
          "metadata": {}
        },
        {
          "output_type": "display_data",
          "data": {
            "text/plain": [
              "<IPython.core.display.Javascript object>"
            ],
            "application/javascript": [
              "\n",
              "    async function download(id, filename, size) {\n",
              "      if (!google.colab.kernel.accessAllowed) {\n",
              "        return;\n",
              "      }\n",
              "      const div = document.createElement('div');\n",
              "      const label = document.createElement('label');\n",
              "      label.textContent = `Downloading \"${filename}\": `;\n",
              "      div.appendChild(label);\n",
              "      const progress = document.createElement('progress');\n",
              "      progress.max = size;\n",
              "      div.appendChild(progress);\n",
              "      document.body.appendChild(div);\n",
              "\n",
              "      const buffers = [];\n",
              "      let downloaded = 0;\n",
              "\n",
              "      const channel = await google.colab.kernel.comms.open(id);\n",
              "      // Send a message to notify the kernel that we're ready.\n",
              "      channel.send({})\n",
              "\n",
              "      for await (const message of channel.messages) {\n",
              "        // Send a message to notify the kernel that we're ready.\n",
              "        channel.send({})\n",
              "        if (message.buffers) {\n",
              "          for (const buffer of message.buffers) {\n",
              "            buffers.push(buffer);\n",
              "            downloaded += buffer.byteLength;\n",
              "            progress.value = downloaded;\n",
              "          }\n",
              "        }\n",
              "      }\n",
              "      const blob = new Blob(buffers, {type: 'application/binary'});\n",
              "      const a = document.createElement('a');\n",
              "      a.href = window.URL.createObjectURL(blob);\n",
              "      a.download = filename;\n",
              "      div.appendChild(a);\n",
              "      a.click();\n",
              "      div.remove();\n",
              "    }\n",
              "  "
            ]
          },
          "metadata": {}
        },
        {
          "output_type": "display_data",
          "data": {
            "text/plain": [
              "<IPython.core.display.Javascript object>"
            ],
            "application/javascript": [
              "download(\"download_fac8ef92-a171-4398-ade6-bd228f7b6119\", \"rotulos.csv\", 102480)"
            ]
          },
          "metadata": {}
        }
      ]
    },
    {
      "cell_type": "markdown",
      "source": [
        "#Under e over"
      ],
      "metadata": {
        "id": "11s1fnOZ3gUp"
      }
    },
    {
      "cell_type": "code",
      "source": [
        "rotulos = pd.read_csv(\"/content/rotulos.csv\")"
      ],
      "metadata": {
        "id": "l7F-iRnw3iHQ"
      },
      "execution_count": null,
      "outputs": []
    },
    {
      "cell_type": "code",
      "source": [
        "dadoskfold = pd.read_csv(\"/content/dadoskfold.csv\")"
      ],
      "metadata": {
        "id": "5E8RdTMr3wVx"
      },
      "execution_count": null,
      "outputs": []
    },
    {
      "cell_type": "code",
      "source": [
        "dadoskfold_train=dadoskfold.iloc[:810]"
      ],
      "metadata": {
        "id": "j_eUiTiy4laT"
      },
      "execution_count": null,
      "outputs": []
    },
    {
      "cell_type": "code",
      "source": [
        "dadoskfold_train.rename(columns={'0':'fold0','1':'fold1','2':'fold2','3':'fold3','4':'fold4','5':'fold5','6':'fold6','7':'fold7','8':'fold8','9':'fold9'}, inplace=True)"
      ],
      "metadata": {
        "id": "clCLObFx6u0p"
      },
      "execution_count": null,
      "outputs": []
    },
    {
      "cell_type": "code",
      "source": [
        "rotulos_train=rotulos.iloc[:810]"
      ],
      "metadata": {
        "id": "SbpVnn5V4nGJ"
      },
      "execution_count": null,
      "outputs": []
    },
    {
      "cell_type": "code",
      "source": [
        "from collections import Counter\n",
        "from imblearn.under_sampling import RandomUnderSampler\n",
        "from imblearn.over_sampling import RandomOverSampler"
      ],
      "metadata": {
        "id": "vXSsoJto2O7x"
      },
      "execution_count": null,
      "outputs": []
    },
    {
      "cell_type": "markdown",
      "source": [
        "#baixar"
      ],
      "metadata": {
        "id": "SS4tNy9x-nl8"
      }
    },
    {
      "cell_type": "code",
      "source": [
        "df = pd.concat([rotulos_train['9'],dadoskfold_train['fold9']], axis=1)"
      ],
      "metadata": {
        "id": "eqxWz5ks5ppi"
      },
      "execution_count": null,
      "outputs": []
    },
    {
      "cell_type": "code",
      "source": [
        "# Contagem das classes antes do balanceamento\n",
        "print(\"Contagem das classes antes do balanceamento:\")\n",
        "print(Counter(df['9']))"
      ],
      "metadata": {
        "colab": {
          "base_uri": "https://localhost:8080/"
        },
        "id": "EroV98vo2SD4",
        "outputId": "9fc13411-f703-4668-9867-9ddc2b2c5dbe"
      },
      "execution_count": null,
      "outputs": [
        {
          "output_type": "stream",
          "name": "stdout",
          "text": [
            "Contagem das classes antes do balanceamento:\n",
            "Counter({0.0: 652, 1.0: 158})\n"
          ]
        }
      ]
    },
    {
      "cell_type": "code",
      "source": [
        "# Undersampling\n",
        "rus = RandomUnderSampler(sampling_strategy='auto')\n",
        "X_under, y_under = rus.fit_resample(df[['fold9']], df['9'])\n",
        "\n",
        "# Contagem das classes após o undersampling\n",
        "print(\"Contagem das classes após o undersampling:\")\n",
        "print(Counter(y_under))\n"
      ],
      "metadata": {
        "colab": {
          "base_uri": "https://localhost:8080/"
        },
        "id": "MrryiTHb2SKy",
        "outputId": "fdb08e69-431f-43ef-b305-e23632759f9a"
      },
      "execution_count": null,
      "outputs": [
        {
          "output_type": "stream",
          "name": "stdout",
          "text": [
            "Contagem das classes após o undersampling:\n",
            "Counter({0.0: 158, 1.0: 158})\n"
          ]
        }
      ]
    },
    {
      "cell_type": "code",
      "source": [
        "# Oversampling\n",
        "ros = RandomOverSampler(sampling_strategy='auto')\n",
        "X_over, y_over = ros.fit_resample(df[['fold9']], df['9'])\n",
        "# Contagem das classes após o oversampling\n",
        "print(\"Contagem das classes após o oversampling:\")\n",
        "print(Counter(y_over))"
      ],
      "metadata": {
        "colab": {
          "base_uri": "https://localhost:8080/"
        },
        "id": "GN0DBH2R2SQI",
        "outputId": "4616408a-708d-486e-d3d8-0f8541302cac"
      },
      "execution_count": null,
      "outputs": [
        {
          "output_type": "stream",
          "name": "stdout",
          "text": [
            "Contagem das classes após o oversampling:\n",
            "Counter({0.0: 652, 1.0: 652})\n"
          ]
        }
      ]
    },
    {
      "cell_type": "code",
      "source": [
        "fold9under = pd.concat([X_under,y_under], axis=1)"
      ],
      "metadata": {
        "id": "S1a-M9LN9zg5"
      },
      "execution_count": null,
      "outputs": []
    },
    {
      "cell_type": "code",
      "source": [
        "fold9over = pd.concat([X_over,y_over], axis=1)"
      ],
      "metadata": {
        "id": "qu0XsdjF9_iJ"
      },
      "execution_count": null,
      "outputs": []
    },
    {
      "cell_type": "code",
      "source": [
        "pd.DataFrame.to_csv(fold9under,'fold9under.csv', sep=',', index=False, encoding='utf-8')\n",
        "pd.DataFrame.to_csv(fold9over,'fold9over.csv', sep=',', index=False, encoding='utf-8')"
      ],
      "metadata": {
        "id": "48uY6oC--IWq"
      },
      "execution_count": null,
      "outputs": []
    },
    {
      "cell_type": "code",
      "source": [
        "from google.colab import files\n",
        "files.download(\"fold9under.csv\")\n",
        "files.download(\"fold9over.csv\")"
      ],
      "metadata": {
        "colab": {
          "base_uri": "https://localhost:8080/",
          "height": 52
        },
        "id": "yteOdGot-Nvz",
        "outputId": "938e20ef-b38a-4bc9-f976-7bc0be9decf1"
      },
      "execution_count": null,
      "outputs": [
        {
          "output_type": "display_data",
          "data": {
            "text/plain": [
              "<IPython.core.display.Javascript object>"
            ],
            "application/javascript": [
              "\n",
              "    async function download(id, filename, size) {\n",
              "      if (!google.colab.kernel.accessAllowed) {\n",
              "        return;\n",
              "      }\n",
              "      const div = document.createElement('div');\n",
              "      const label = document.createElement('label');\n",
              "      label.textContent = `Downloading \"${filename}\": `;\n",
              "      div.appendChild(label);\n",
              "      const progress = document.createElement('progress');\n",
              "      progress.max = size;\n",
              "      div.appendChild(progress);\n",
              "      document.body.appendChild(div);\n",
              "\n",
              "      const buffers = [];\n",
              "      let downloaded = 0;\n",
              "\n",
              "      const channel = await google.colab.kernel.comms.open(id);\n",
              "      // Send a message to notify the kernel that we're ready.\n",
              "      channel.send({})\n",
              "\n",
              "      for await (const message of channel.messages) {\n",
              "        // Send a message to notify the kernel that we're ready.\n",
              "        channel.send({})\n",
              "        if (message.buffers) {\n",
              "          for (const buffer of message.buffers) {\n",
              "            buffers.push(buffer);\n",
              "            downloaded += buffer.byteLength;\n",
              "            progress.value = downloaded;\n",
              "          }\n",
              "        }\n",
              "      }\n",
              "      const blob = new Blob(buffers, {type: 'application/binary'});\n",
              "      const a = document.createElement('a');\n",
              "      a.href = window.URL.createObjectURL(blob);\n",
              "      a.download = filename;\n",
              "      div.appendChild(a);\n",
              "      a.click();\n",
              "      div.remove();\n",
              "    }\n",
              "  "
            ]
          },
          "metadata": {}
        },
        {
          "output_type": "display_data",
          "data": {
            "text/plain": [
              "<IPython.core.display.Javascript object>"
            ],
            "application/javascript": [
              "download(\"download_4222fe67-f2fc-4eaf-b906-ba964f48b500\", \"fold9under.csv\", 5380)"
            ]
          },
          "metadata": {}
        },
        {
          "output_type": "display_data",
          "data": {
            "text/plain": [
              "<IPython.core.display.Javascript object>"
            ],
            "application/javascript": [
              "\n",
              "    async function download(id, filename, size) {\n",
              "      if (!google.colab.kernel.accessAllowed) {\n",
              "        return;\n",
              "      }\n",
              "      const div = document.createElement('div');\n",
              "      const label = document.createElement('label');\n",
              "      label.textContent = `Downloading \"${filename}\": `;\n",
              "      div.appendChild(label);\n",
              "      const progress = document.createElement('progress');\n",
              "      progress.max = size;\n",
              "      div.appendChild(progress);\n",
              "      document.body.appendChild(div);\n",
              "\n",
              "      const buffers = [];\n",
              "      let downloaded = 0;\n",
              "\n",
              "      const channel = await google.colab.kernel.comms.open(id);\n",
              "      // Send a message to notify the kernel that we're ready.\n",
              "      channel.send({})\n",
              "\n",
              "      for await (const message of channel.messages) {\n",
              "        // Send a message to notify the kernel that we're ready.\n",
              "        channel.send({})\n",
              "        if (message.buffers) {\n",
              "          for (const buffer of message.buffers) {\n",
              "            buffers.push(buffer);\n",
              "            downloaded += buffer.byteLength;\n",
              "            progress.value = downloaded;\n",
              "          }\n",
              "        }\n",
              "      }\n",
              "      const blob = new Blob(buffers, {type: 'application/binary'});\n",
              "      const a = document.createElement('a');\n",
              "      a.href = window.URL.createObjectURL(blob);\n",
              "      a.download = filename;\n",
              "      div.appendChild(a);\n",
              "      a.click();\n",
              "      div.remove();\n",
              "    }\n",
              "  "
            ]
          },
          "metadata": {}
        },
        {
          "output_type": "display_data",
          "data": {
            "text/plain": [
              "<IPython.core.display.Javascript object>"
            ],
            "application/javascript": [
              "download(\"download_6065c5d5-f637-4c15-8ffb-396e0a9ed61a\", \"fold9over.csv\", 22176)"
            ]
          },
          "metadata": {}
        }
      ]
    }
  ]
}