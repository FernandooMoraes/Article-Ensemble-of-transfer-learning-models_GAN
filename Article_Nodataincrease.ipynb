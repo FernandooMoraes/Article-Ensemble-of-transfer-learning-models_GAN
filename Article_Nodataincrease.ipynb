{
  "cells": [
    {
      "cell_type": "markdown",
      "metadata": {
        "id": "view-in-github",
        "colab_type": "text"
      },
      "source": [
        "<a href=\"https://colab.research.google.com/github/FernandooMoraes/Article-Ensemble-of-transfer-learning-models/blob/main/Article_Nodataincrease.ipynb\" target=\"_parent\"><img src=\"https://colab.research.google.com/assets/colab-badge.svg\" alt=\"Open In Colab\"/></a>"
      ]
    },
    {
      "cell_type": "markdown",
      "metadata": {
        "id": "e3STtEo9ICfJ"
      },
      "source": [
        "#Pacotes utilizados\n",
        "\n"
      ]
    },
    {
      "cell_type": "code",
      "execution_count": null,
      "metadata": {
        "id": "HNkBhz4_IGQx"
      },
      "outputs": [],
      "source": [
        "import warnings\n",
        "warnings.filterwarnings('always')\n",
        "warnings.filterwarnings('ignore')\n",
        "import numpy as np\n",
        "import pandas as pd\n",
        "import matplotlib.pyplot as plt\n",
        "%matplotlib inline\n",
        "from tensorflow.keras.preprocessing.image import ImageDataGenerator\n",
        "from tensorflow.keras.models import Model, Sequential, load_model\n",
        "from tensorflow.keras.optimizers import Nadam\n",
        "from tensorflow.keras.utils import to_categorical\n",
        "from tensorflow.keras.layers import Dropout, Flatten, Input, Dense, ZeroPadding2D,Conv2D, MaxPooling2D, BatchNormalization, Activation\n",
        "import tensorflow as tf\n",
        "import cv2\n",
        "import os\n",
        "import glob\n",
        "import skimage.io\n",
        "import torchvision.models as models\n",
        "import zipfile\n",
        "import io\n",
        "from os import listdir\n",
        "from sklearn.metrics import confusion_matrix\n",
        "import imutils\n",
        "import time\n",
        "from random import shuffle\n",
        "from keras import losses\n",
        "from tensorflow.keras import losses\n",
        "import shutil\n",
        "import scipy.ndimage\n",
        "from skimage import morphology\n",
        "from skimage import measure\n",
        "from skimage.transform import resize\n",
        "from sklearn.cluster import KMeans\n",
        "from plotly import __version__\n",
        "from plotly.offline import download_plotlyjs, init_notebook_mode, plot, iplot\n",
        "from plotly.tools import FigureFactory as FF\n",
        "from plotly.graph_objs import *\n",
        "from tensorflow.keras.callbacks import TensorBoard, ModelCheckpoint,EarlyStopping\n",
        "from sklearn.metrics import f1_score\n",
        "from sklearn.utils import shuffle\n",
        "import cv2 as cv\n",
        "from PIL import Image, ImageDraw, ImageFilter\n",
        "from skimage.viewer import ImageViewer\n",
        "from skimage import filters\n",
        "from skimage.morphology import erosion, dilation, opening, closing, white_tophat,black_tophat, skeletonize, convex_hull_image,disk\n",
        "from skimage.data import data_dir\n",
        "from skimage.util import img_as_ubyte\n",
        "import copy\n",
        "from statistics import *\n",
        "from numpy import array\n",
        "from google.colab import files\n",
        "import pickle"
      ]
    },
    {
      "cell_type": "code",
      "execution_count": null,
      "metadata": {
        "id": "AF92qOcf3GfH"
      },
      "outputs": [],
      "source": [
        "from google.colab import drive\n",
        "drive.mount('/content/drive')"
      ]
    },
    {
      "cell_type": "markdown",
      "metadata": {
        "id": "Vf19yScLJrmx"
      },
      "source": [
        "#Upload da base de dados para o colab"
      ]
    },
    {
      "cell_type": "code",
      "execution_count": null,
      "metadata": {
        "id": "Bi48e4j3IeDC"
      },
      "outputs": [],
      "source": [
        "uploaded2 = files.upload()"
      ]
    },
    {
      "cell_type": "code",
      "execution_count": null,
      "metadata": {
        "id": "QAAMSUUvIvSQ"
      },
      "outputs": [],
      "source": [
        "data = zipfile.ZipFile('/content/fold0.zip', 'r')\n",
        "data.extractall()"
      ]
    },
    {
      "cell_type": "code",
      "execution_count": null,
      "metadata": {
        "id": "hZtgd-iIl27P"
      },
      "outputs": [],
      "source": [
        "rotulos = pd.read_csv(\"/content/rotulos.csv\")"
      ]
    },
    {
      "cell_type": "code",
      "execution_count": null,
      "metadata": {
        "colab": {
          "base_uri": "https://localhost:8080/",
          "height": 73
        },
        "id": "5NZWMOpo4uOx",
        "outputId": "231588c9-7181-4245-adc1-013fa71604dc"
      },
      "outputs": [
        {
          "output_type": "display_data",
          "data": {
            "text/plain": [
              "<IPython.core.display.HTML object>"
            ],
            "text/html": [
              "\n",
              "     <input type=\"file\" id=\"files-f19c8b20-5f1a-4ae7-86d4-895bd355805b\" name=\"files[]\" multiple disabled\n",
              "        style=\"border:none\" />\n",
              "     <output id=\"result-f19c8b20-5f1a-4ae7-86d4-895bd355805b\">\n",
              "      Upload widget is only available when the cell has been executed in the\n",
              "      current browser session. Please rerun this cell to enable.\n",
              "      </output>\n",
              "      <script>// Copyright 2017 Google LLC\n",
              "//\n",
              "// Licensed under the Apache License, Version 2.0 (the \"License\");\n",
              "// you may not use this file except in compliance with the License.\n",
              "// You may obtain a copy of the License at\n",
              "//\n",
              "//      http://www.apache.org/licenses/LICENSE-2.0\n",
              "//\n",
              "// Unless required by applicable law or agreed to in writing, software\n",
              "// distributed under the License is distributed on an \"AS IS\" BASIS,\n",
              "// WITHOUT WARRANTIES OR CONDITIONS OF ANY KIND, either express or implied.\n",
              "// See the License for the specific language governing permissions and\n",
              "// limitations under the License.\n",
              "\n",
              "/**\n",
              " * @fileoverview Helpers for google.colab Python module.\n",
              " */\n",
              "(function(scope) {\n",
              "function span(text, styleAttributes = {}) {\n",
              "  const element = document.createElement('span');\n",
              "  element.textContent = text;\n",
              "  for (const key of Object.keys(styleAttributes)) {\n",
              "    element.style[key] = styleAttributes[key];\n",
              "  }\n",
              "  return element;\n",
              "}\n",
              "\n",
              "// Max number of bytes which will be uploaded at a time.\n",
              "const MAX_PAYLOAD_SIZE = 100 * 1024;\n",
              "\n",
              "function _uploadFiles(inputId, outputId) {\n",
              "  const steps = uploadFilesStep(inputId, outputId);\n",
              "  const outputElement = document.getElementById(outputId);\n",
              "  // Cache steps on the outputElement to make it available for the next call\n",
              "  // to uploadFilesContinue from Python.\n",
              "  outputElement.steps = steps;\n",
              "\n",
              "  return _uploadFilesContinue(outputId);\n",
              "}\n",
              "\n",
              "// This is roughly an async generator (not supported in the browser yet),\n",
              "// where there are multiple asynchronous steps and the Python side is going\n",
              "// to poll for completion of each step.\n",
              "// This uses a Promise to block the python side on completion of each step,\n",
              "// then passes the result of the previous step as the input to the next step.\n",
              "function _uploadFilesContinue(outputId) {\n",
              "  const outputElement = document.getElementById(outputId);\n",
              "  const steps = outputElement.steps;\n",
              "\n",
              "  const next = steps.next(outputElement.lastPromiseValue);\n",
              "  return Promise.resolve(next.value.promise).then((value) => {\n",
              "    // Cache the last promise value to make it available to the next\n",
              "    // step of the generator.\n",
              "    outputElement.lastPromiseValue = value;\n",
              "    return next.value.response;\n",
              "  });\n",
              "}\n",
              "\n",
              "/**\n",
              " * Generator function which is called between each async step of the upload\n",
              " * process.\n",
              " * @param {string} inputId Element ID of the input file picker element.\n",
              " * @param {string} outputId Element ID of the output display.\n",
              " * @return {!Iterable<!Object>} Iterable of next steps.\n",
              " */\n",
              "function* uploadFilesStep(inputId, outputId) {\n",
              "  const inputElement = document.getElementById(inputId);\n",
              "  inputElement.disabled = false;\n",
              "\n",
              "  const outputElement = document.getElementById(outputId);\n",
              "  outputElement.innerHTML = '';\n",
              "\n",
              "  const pickedPromise = new Promise((resolve) => {\n",
              "    inputElement.addEventListener('change', (e) => {\n",
              "      resolve(e.target.files);\n",
              "    });\n",
              "  });\n",
              "\n",
              "  const cancel = document.createElement('button');\n",
              "  inputElement.parentElement.appendChild(cancel);\n",
              "  cancel.textContent = 'Cancel upload';\n",
              "  const cancelPromise = new Promise((resolve) => {\n",
              "    cancel.onclick = () => {\n",
              "      resolve(null);\n",
              "    };\n",
              "  });\n",
              "\n",
              "  // Wait for the user to pick the files.\n",
              "  const files = yield {\n",
              "    promise: Promise.race([pickedPromise, cancelPromise]),\n",
              "    response: {\n",
              "      action: 'starting',\n",
              "    }\n",
              "  };\n",
              "\n",
              "  cancel.remove();\n",
              "\n",
              "  // Disable the input element since further picks are not allowed.\n",
              "  inputElement.disabled = true;\n",
              "\n",
              "  if (!files) {\n",
              "    return {\n",
              "      response: {\n",
              "        action: 'complete',\n",
              "      }\n",
              "    };\n",
              "  }\n",
              "\n",
              "  for (const file of files) {\n",
              "    const li = document.createElement('li');\n",
              "    li.append(span(file.name, {fontWeight: 'bold'}));\n",
              "    li.append(span(\n",
              "        `(${file.type || 'n/a'}) - ${file.size} bytes, ` +\n",
              "        `last modified: ${\n",
              "            file.lastModifiedDate ? file.lastModifiedDate.toLocaleDateString() :\n",
              "                                    'n/a'} - `));\n",
              "    const percent = span('0% done');\n",
              "    li.appendChild(percent);\n",
              "\n",
              "    outputElement.appendChild(li);\n",
              "\n",
              "    const fileDataPromise = new Promise((resolve) => {\n",
              "      const reader = new FileReader();\n",
              "      reader.onload = (e) => {\n",
              "        resolve(e.target.result);\n",
              "      };\n",
              "      reader.readAsArrayBuffer(file);\n",
              "    });\n",
              "    // Wait for the data to be ready.\n",
              "    let fileData = yield {\n",
              "      promise: fileDataPromise,\n",
              "      response: {\n",
              "        action: 'continue',\n",
              "      }\n",
              "    };\n",
              "\n",
              "    // Use a chunked sending to avoid message size limits. See b/62115660.\n",
              "    let position = 0;\n",
              "    do {\n",
              "      const length = Math.min(fileData.byteLength - position, MAX_PAYLOAD_SIZE);\n",
              "      const chunk = new Uint8Array(fileData, position, length);\n",
              "      position += length;\n",
              "\n",
              "      const base64 = btoa(String.fromCharCode.apply(null, chunk));\n",
              "      yield {\n",
              "        response: {\n",
              "          action: 'append',\n",
              "          file: file.name,\n",
              "          data: base64,\n",
              "        },\n",
              "      };\n",
              "\n",
              "      let percentDone = fileData.byteLength === 0 ?\n",
              "          100 :\n",
              "          Math.round((position / fileData.byteLength) * 100);\n",
              "      percent.textContent = `${percentDone}% done`;\n",
              "\n",
              "    } while (position < fileData.byteLength);\n",
              "  }\n",
              "\n",
              "  // All done.\n",
              "  yield {\n",
              "    response: {\n",
              "      action: 'complete',\n",
              "    }\n",
              "  };\n",
              "}\n",
              "\n",
              "scope.google = scope.google || {};\n",
              "scope.google.colab = scope.google.colab || {};\n",
              "scope.google.colab._files = {\n",
              "  _uploadFiles,\n",
              "  _uploadFilesContinue,\n",
              "};\n",
              "})(self);\n",
              "</script> "
            ]
          },
          "metadata": {}
        },
        {
          "output_type": "stream",
          "name": "stdout",
          "text": [
            "Saving teste.zip to teste.zip\n"
          ]
        }
      ],
      "source": [
        "from google.colab import files\n",
        "uploaded2 = files.upload()"
      ]
    },
    {
      "cell_type": "code",
      "execution_count": null,
      "metadata": {
        "id": "4b0dcccl4wYJ"
      },
      "outputs": [],
      "source": [
        "data = zipfile.ZipFile('/content/teste.zip', 'r')\n",
        "data.extractall()"
      ]
    },
    {
      "cell_type": "markdown",
      "metadata": {
        "id": "pTIclBDyJpUw"
      },
      "source": [
        "#Leitura da base de dados"
      ]
    },
    {
      "cell_type": "code",
      "execution_count": null,
      "metadata": {
        "id": "Vr6Oc714IvVA"
      },
      "outputs": [],
      "source": [
        "dir_list = ['/content/fold0/train/B/','/content/fold0/train/M/']"
      ]
    },
    {
      "cell_type": "code",
      "execution_count": null,
      "metadata": {
        "id": "xGRDVwXvIvXf"
      },
      "outputs": [],
      "source": [
        "def load_data(dir_list):\n",
        "    \"\"\"\n",
        "    Read images, resize and normalize them.\n",
        "    Arguments:\n",
        "        dir_list: list of strings representing file directories.\n",
        "    Returns:\n",
        "        X: A numpy array with shape = (#_examples, image_width, image_height, #_channels)\n",
        "        y: A numpy array with shape = (#_examples, 1)\n",
        "    \"\"\"\n",
        "\n",
        "    # load all images in a directory\n",
        "    X = []\n",
        "    y = []\n",
        "\n",
        "    for directory in dir_list:\n",
        "        for filename in sorted(listdir(directory)):\n",
        "            if filename == '.ipynb_checkpoints':\n",
        "                print(\"proximo\")\n",
        "            else:\n",
        "            # load the image\n",
        "              image = cv2.imread(directory + filename)\n",
        "            # crop the brain and ignore the unnecessary rest part of the image\n",
        "            #image = crop_brain_contour(image, plot=False)\n",
        "            # resize image\n",
        "            #image = cv2.resize(image, dsize= (256, 256), interpolation=cv2.INTER_CUBIC)\n",
        "            # normalize values\n",
        "              image = image / 255.\n",
        "            # convert image to numpy array and append it to X\n",
        "              X.append(image)\n",
        "            # append a value of 1 to the target array if the image\n",
        "            # is in the folder named 'yes', otherwise append 0.\n",
        "              if directory == '/content/fold0/train/M/':\n",
        "                 y.append([1])\n",
        "\n",
        "              else:\n",
        "                 y.append([0])\n",
        "\n",
        "    X = np.array(X)\n",
        "    y = np.array(y)\n",
        "\n",
        "    # Shuffle the data\n",
        "    #X, y = shuffle(X, y)\n",
        "\n",
        "    print(f'Number of examples is: {len(X)}')\n",
        "    print(f'X shape is: {X.shape}')\n",
        "    print(f'y shape is: {y.shape}')\n",
        "\n",
        "    return X, y"
      ]
    },
    {
      "cell_type": "code",
      "execution_count": null,
      "metadata": {
        "colab": {
          "base_uri": "https://localhost:8080/"
        },
        "id": "A1NFcMb5Jq4V",
        "outputId": "49226aff-12bb-4b8a-a2fe-94398cf73e09"
      },
      "outputs": [
        {
          "output_type": "stream",
          "name": "stdout",
          "text": [
            "Number of examples is: 1310\n",
            "X shape is: (1310, 256, 256, 3)\n",
            "y shape is: (1310, 1)\n"
          ]
        }
      ],
      "source": [
        "X_train, y_train = load_data(dir_list)"
      ]
    },
    {
      "cell_type": "code",
      "execution_count": null,
      "metadata": {
        "id": "E2XNmlnXJmdT"
      },
      "outputs": [],
      "source": [
        "dir_list = ['/content/fold0/test/B/','/content/fold0/test/M/']"
      ]
    },
    {
      "cell_type": "code",
      "execution_count": null,
      "metadata": {
        "id": "ELN4DwLpJmxL"
      },
      "outputs": [],
      "source": [
        "def load_data(dir_list):\n",
        "    \"\"\"\n",
        "    Read images, resize and normalize them.\n",
        "    Arguments:\n",
        "        dir_list: list of strings representing file directories.\n",
        "    Returns:\n",
        "        X: A numpy array with shape = (#_examples, image_width, image_height, #_channels)\n",
        "        y: A numpy array with shape = (#_examples, 1)\n",
        "    \"\"\"\n",
        "\n",
        "    # load all images in a directory\n",
        "    X = []\n",
        "    y = []\n",
        "\n",
        "    for directory in dir_list:\n",
        "        for filename in sorted(listdir(directory)):\n",
        "            if filename == '.ipynb_checkpoints':\n",
        "                print(\"proximo\")\n",
        "            else:\n",
        "            # load the image\n",
        "              image = cv2.imread(directory + filename)\n",
        "            # crop the brain and ignore the unnecessary rest part of the image\n",
        "            #image = crop_brain_contour(image, plot=False)\n",
        "            # resize image\n",
        "            #image = cv2.resize(image, dsize= (256, 256), interpolation=cv2.INTER_CUBIC)\n",
        "            # normalize values\n",
        "              image = image / 255.\n",
        "            # convert image to numpy array and append it to X\n",
        "              X.append(image)\n",
        "            # append a value of 1 to the target array if the image\n",
        "            # is in the folder named 'yes', otherwise append 0.\n",
        "              if directory == '/content/fold0/test/M/':\n",
        "                 y.append([1])\n",
        "\n",
        "              else:\n",
        "                 y.append([0])\n",
        "\n",
        "    X = np.array(X)\n",
        "    y = np.array(y)\n",
        "\n",
        "    # Shuffle the data\n",
        "    #X, y = shuffle(X, y)\n",
        "\n",
        "    print(f'Number of examples is: {len(X)}')\n",
        "    print(f'X shape is: {X.shape}')\n",
        "    print(f'y shape is: {y.shape}')\n",
        "\n",
        "    return X, y"
      ]
    },
    {
      "cell_type": "code",
      "execution_count": null,
      "metadata": {
        "colab": {
          "base_uri": "https://localhost:8080/"
        },
        "id": "-02dKdXpJwzV",
        "outputId": "2a3d37b6-6d5c-4995-8e2a-c91b2d1a00c5"
      },
      "outputs": [
        {
          "output_type": "stream",
          "name": "stdout",
          "text": [
            "Number of examples is: 90\n",
            "X shape is: (90, 256, 256, 3)\n",
            "y shape is: (90, 1)\n"
          ]
        }
      ],
      "source": [
        "X_test, y_test = load_data(dir_list)"
      ]
    },
    {
      "cell_type": "code",
      "execution_count": null,
      "metadata": {
        "id": "pAVAZs3263iJ"
      },
      "outputs": [],
      "source": [
        "dir_list = ['/content/teste/']"
      ]
    },
    {
      "cell_type": "code",
      "execution_count": null,
      "metadata": {
        "id": "phXVUMAC63lP"
      },
      "outputs": [],
      "source": [
        "def load_data(dir_list):\n",
        "    \"\"\"\n",
        "    Read images, resize and normalize them.\n",
        "    Arguments:\n",
        "        dir_list: list of strings representing file directories.\n",
        "    Returns:\n",
        "        X: A numpy array with shape = (#_examples, image_width, image_height, #_channels)\n",
        "        y: A numpy array with shape = (#_examples, 1)\n",
        "    \"\"\"\n",
        "\n",
        "    # load all images in a directory\n",
        "    X = []\n",
        "\n",
        "    for directory in dir_list:\n",
        "        for filename in listdir(directory):\n",
        "            if filename == '.ipynb_checkpoints':\n",
        "                print(\"proximo\")\n",
        "            else:\n",
        "            # load the image\n",
        "              image = cv2.imread(directory + filename)\n",
        "            # crop the brain and ignore the unnecessary rest part of the image\n",
        "            #image = crop_brain_contour(image, plot=False)\n",
        "            # resize image\n",
        "            #image = cv2.resize(image, dsize= (256, 256), interpolation=cv2.INTER_CUBIC)\n",
        "            # normalize values\n",
        "              image = image / 255.\n",
        "            # convert image to numpy array and append it to X\n",
        "              X.append(image)\n",
        "            # append a value of 1 to the target array if the image\n",
        "            # is in the folder named 'yes', otherwise append 0.\n",
        "\n",
        "    X = np.array(X)\n",
        "\n",
        "    # Shuffle the data\n",
        "    #X, y = shuffle(X, y)\n",
        "\n",
        "    print(f'Number of examples is: {len(X)}')\n",
        "    print(f'X shape is: {X.shape}')\n",
        "\n",
        "    return X"
      ]
    },
    {
      "cell_type": "code",
      "execution_count": null,
      "metadata": {
        "colab": {
          "base_uri": "https://localhost:8080/"
        },
        "id": "ats2ZFno63vo",
        "outputId": "dceb686f-f8f7-4ad9-f739-92908a13922e"
      },
      "outputs": [
        {
          "output_type": "stream",
          "name": "stdout",
          "text": [
            "Number of examples is: 379\n",
            "X shape is: (379, 256, 256, 3)\n"
          ]
        }
      ],
      "source": [
        "X_test2 = load_data(dir_list)"
      ]
    },
    {
      "cell_type": "code",
      "execution_count": null,
      "metadata": {
        "id": "mgXaxEYSI9tx"
      },
      "outputs": [],
      "source": [
        "X_train = X_train.astype('float32')\n",
        "X_test = X_test.astype('float32')\n",
        "X_test2 = X_test2.astype('float32')\n",
        "X_train /= 255\n",
        "X_test /= 255\n",
        "X_test2 /= 255\n",
        "y_train = tf.keras.utils.to_categorical(y_train)\n",
        "y_test = tf.keras.utils.to_categorical(y_test)"
      ]
    },
    {
      "cell_type": "markdown",
      "metadata": {
        "id": "ju6QphiXEhqz"
      },
      "source": [
        "#Modelo 1"
      ]
    },
    {
      "cell_type": "code",
      "execution_count": null,
      "metadata": {
        "id": "wl2TbyzYhqq3"
      },
      "outputs": [],
      "source": [
        "resultados_test2 = np.zeros((379,13), dtype=np.float64)\n",
        "resultados = np.zeros((90,13), dtype=np.float64)"
      ]
    },
    {
      "cell_type": "code",
      "execution_count": null,
      "metadata": {
        "id": "m4XwnEexI9w3"
      },
      "outputs": [],
      "source": [
        "# first input model# first input model\n",
        "vgg16 = tf.keras.applications.VGG16(input_shape=(256,256,3), include_top = False, weights= 'imagenet')\n",
        "x = vgg16.output\n",
        "x = Flatten()(x)\n",
        "\n",
        "# merge input models\n",
        "x = Dense(128,activation='relu')(x)\n",
        "x = Dropout(0.5)(x)\n",
        "x = Dense(64,activation='relu')(x)\n",
        "x = Dropout(0.5)(x)\n",
        "out = Dense(2,activation='sigmoid')(x)\n",
        "\n",
        "model = Model(inputs=vgg16.input, outputs=out)\n",
        "model.compile(optimizer=tf.keras.optimizers.Adagrad(),loss=tf.keras.losses.binary_crossentropy, metrics=['accuracy'])\n",
        "#tf_model.summary()"
      ]
    },
    {
      "cell_type": "code",
      "execution_count": null,
      "metadata": {
        "id": "N10f08BlMWjd"
      },
      "outputs": [],
      "source": [
        "tf.keras.utils.plot_model(model, \"modelo1's.png\", show_shapes=True)"
      ]
    },
    {
      "cell_type": "code",
      "execution_count": null,
      "metadata": {
        "id": "xhqdfqGOYqQV"
      },
      "outputs": [],
      "source": [
        "history = model.fit(X_train, y_train, batch_size = 16, epochs = 100, initial_epoch = 0, validation_data = (X_test,y_test),callbacks=EarlyStopping(monitor=\"val_loss\", mode=\"min\", verbose=1, patience=10))"
      ]
    },
    {
      "cell_type": "code",
      "execution_count": null,
      "metadata": {
        "id": "FoHHOwhrYx5C"
      },
      "outputs": [],
      "source": [
        "y_predt = model.predict(X_test)\n",
        "y_predt= np.argmax(y_predt,axis=1)"
      ]
    },
    {
      "cell_type": "code",
      "execution_count": null,
      "metadata": {
        "id": "wm2VnOIHQGJA"
      },
      "outputs": [],
      "source": [
        "resultados[:,0]=y_predt"
      ]
    },
    {
      "cell_type": "code",
      "execution_count": null,
      "metadata": {
        "id": "7-JgzbBLBSW3"
      },
      "outputs": [],
      "source": [
        "y_predt = model.predict(X_test2)\n",
        "y_predt= np.argmax(y_predt,axis=1)"
      ]
    },
    {
      "cell_type": "code",
      "execution_count": null,
      "metadata": {
        "id": "xCCMzaFxBjJG"
      },
      "outputs": [],
      "source": [
        "resultados_test2[:,0]=y_predt"
      ]
    },
    {
      "cell_type": "code",
      "execution_count": null,
      "metadata": {
        "colab": {
          "base_uri": "https://localhost:8080/"
        },
        "id": "0Hg-PwJNGwxW",
        "outputId": "4960b0cf-61e7-4e96-ff51-01bc50ca5b44"
      },
      "outputs": [
        {
          "output_type": "display_data",
          "data": {
            "text/plain": [
              "<IPython.core.display.Javascript object>"
            ],
            "application/javascript": [
              "\n",
              "    async function download(id, filename, size) {\n",
              "      if (!google.colab.kernel.accessAllowed) {\n",
              "        return;\n",
              "      }\n",
              "      const div = document.createElement('div');\n",
              "      const label = document.createElement('label');\n",
              "      label.textContent = `Downloading \"${filename}\": `;\n",
              "      div.appendChild(label);\n",
              "      const progress = document.createElement('progress');\n",
              "      progress.max = size;\n",
              "      div.appendChild(progress);\n",
              "      document.body.appendChild(div);\n",
              "\n",
              "      const buffers = [];\n",
              "      let downloaded = 0;\n",
              "\n",
              "      const channel = await google.colab.kernel.comms.open(id);\n",
              "      // Send a message to notify the kernel that we're ready.\n",
              "      channel.send({})\n",
              "\n",
              "      for await (const message of channel.messages) {\n",
              "        // Send a message to notify the kernel that we're ready.\n",
              "        channel.send({})\n",
              "        if (message.buffers) {\n",
              "          for (const buffer of message.buffers) {\n",
              "            buffers.push(buffer);\n",
              "            downloaded += buffer.byteLength;\n",
              "            progress.value = downloaded;\n",
              "          }\n",
              "        }\n",
              "      }\n",
              "      const blob = new Blob(buffers, {type: 'application/binary'});\n",
              "      const a = document.createElement('a');\n",
              "      a.href = window.URL.createObjectURL(blob);\n",
              "      a.download = filename;\n",
              "      div.appendChild(a);\n",
              "      a.click();\n",
              "      div.remove();\n",
              "    }\n",
              "  "
            ]
          },
          "metadata": {}
        },
        {
          "output_type": "display_data",
          "data": {
            "text/plain": [
              "<IPython.core.display.Javascript object>"
            ],
            "application/javascript": [
              "download(\"download_3d416238-48a7-42c4-8351-3e89804ef899\", \"modelo1.pkl\", 151435457)"
            ]
          },
          "metadata": {}
        }
      ],
      "source": [
        "with open('modelo1.pkl', 'wb') as file:\n",
        "    pickle.dump(model, file)\n",
        "np.savetxt('resultadosfold0.csv', resultados, delimiter=',')\n",
        "np.savetxt('resultados_test2fold0.csv', resultados_test2, delimiter=',')"
      ]
    },
    {
      "cell_type": "markdown",
      "metadata": {
        "id": "HfRkdOmeFrjC"
      },
      "source": [
        "#Modelo2"
      ]
    },
    {
      "cell_type": "code",
      "execution_count": null,
      "metadata": {
        "id": "RNtwHUFKPPUa"
      },
      "outputs": [],
      "source": [
        "densenet121 = tf.keras.applications.densenet.DenseNet121(input_shape=(256,256,3), include_top = False, weights= 'imagenet')\n",
        "x = densenet121.output\n",
        "x = Flatten()(x)\n",
        "\n",
        "x = Dense(128,activation='relu')(x)\n",
        "x = Dropout(0.5)(x)\n",
        "x = Dense(64,activation='relu')(x)\n",
        "x = Dropout(0.5)(x)\n",
        "out = Dense(2,activation='sigmoid')(x)\n",
        "tf_model2=Model(densenet121.input,outputs=out)\n",
        "\n",
        "tf_model2.compile(optimizer=tf.keras.optimizers.Adagrad(),loss=tf.keras.losses.binary_crossentropy, metrics=['accuracy'])\n"
      ]
    },
    {
      "cell_type": "code",
      "execution_count": null,
      "metadata": {
        "id": "8t7v5-F-TcJ6"
      },
      "outputs": [],
      "source": [
        "history2 = tf_model2.fit(X_train, y_train, batch_size = 16, epochs = 100, initial_epoch = 0, validation_data = (X_test,y_test),callbacks=EarlyStopping(monitor=\"val_loss\", mode=\"min\", verbose=1, patience=10))"
      ]
    },
    {
      "cell_type": "code",
      "execution_count": null,
      "metadata": {
        "id": "t6xfDzg-B3Z2"
      },
      "outputs": [],
      "source": [
        "y_predt = tf_model2.predict(X_test)\n",
        "y_predt= np.argmax(y_predt,axis=1)\n",
        "resultados[:,1]=y_predt\n",
        "y_predt = tf_model2.predict(X_test2)\n",
        "y_predt= np.argmax(y_predt,axis=1)\n",
        "resultados_test2[:,1]=y_predt"
      ]
    },
    {
      "cell_type": "code",
      "execution_count": null,
      "metadata": {
        "colab": {
          "base_uri": "https://localhost:8080/"
        },
        "id": "uuNiUjLHDeVg",
        "outputId": "6fb612a7-dada-4e04-c3bd-cfc1af3dfc1b"
      },
      "outputs": [
        {
          "output_type": "display_data",
          "data": {
            "text/plain": [
              "<IPython.core.display.Javascript object>"
            ],
            "application/javascript": [
              "\n",
              "    async function download(id, filename, size) {\n",
              "      if (!google.colab.kernel.accessAllowed) {\n",
              "        return;\n",
              "      }\n",
              "      const div = document.createElement('div');\n",
              "      const label = document.createElement('label');\n",
              "      label.textContent = `Downloading \"${filename}\": `;\n",
              "      div.appendChild(label);\n",
              "      const progress = document.createElement('progress');\n",
              "      progress.max = size;\n",
              "      div.appendChild(progress);\n",
              "      document.body.appendChild(div);\n",
              "\n",
              "      const buffers = [];\n",
              "      let downloaded = 0;\n",
              "\n",
              "      const channel = await google.colab.kernel.comms.open(id);\n",
              "      // Send a message to notify the kernel that we're ready.\n",
              "      channel.send({})\n",
              "\n",
              "      for await (const message of channel.messages) {\n",
              "        // Send a message to notify the kernel that we're ready.\n",
              "        channel.send({})\n",
              "        if (message.buffers) {\n",
              "          for (const buffer of message.buffers) {\n",
              "            buffers.push(buffer);\n",
              "            downloaded += buffer.byteLength;\n",
              "            progress.value = downloaded;\n",
              "          }\n",
              "        }\n",
              "      }\n",
              "      const blob = new Blob(buffers, {type: 'application/binary'});\n",
              "      const a = document.createElement('a');\n",
              "      a.href = window.URL.createObjectURL(blob);\n",
              "      a.download = filename;\n",
              "      div.appendChild(a);\n",
              "      a.click();\n",
              "      div.remove();\n",
              "    }\n",
              "  "
            ]
          },
          "metadata": {}
        },
        {
          "output_type": "display_data",
          "data": {
            "text/plain": [
              "<IPython.core.display.Javascript object>"
            ],
            "application/javascript": [
              "download(\"download_4b6c8451-7c39-4de0-9fa8-54cfac3d5afe\", \"modelo2.pkl\", 124536218)"
            ]
          },
          "metadata": {}
        }
      ],
      "source": [
        "with open('modelo2.pkl', 'wb') as file:\n",
        "    pickle.dump(tf_model2, file)\n",
        "np.savetxt('resultadosfold0.csv', resultados, delimiter=',')\n",
        "np.savetxt('resultados_test2fold0.csv', resultados_test2, delimiter=',')"
      ]
    },
    {
      "cell_type": "markdown",
      "metadata": {
        "id": "kRJhtUdLF7YR"
      },
      "source": [
        "#Modelo 3"
      ]
    },
    {
      "cell_type": "code",
      "execution_count": null,
      "metadata": {
        "id": "BOC3VyljI92H"
      },
      "outputs": [],
      "source": [
        "densenet169 = tf.keras.applications.densenet.DenseNet169(input_shape=(256,256,3), include_top = False, weights= 'imagenet')\n",
        "x = densenet169.output\n",
        "x = Flatten()(x)\n",
        "\n",
        "x = Dense(128,activation='relu')(x)\n",
        "x = Dropout(0.5)(x)\n",
        "x = Dense(64,activation='relu')(x)\n",
        "x = Dropout(0.5)(x)\n",
        "out = Dense(2,activation='sigmoid')(x)\n",
        "tf_model3=Model(densenet169.input,outputs=out)\n",
        "\n",
        "tf_model3.compile(optimizer=tf.keras.optimizers.Adagrad(),loss=tf.keras.losses.binary_crossentropy, metrics=['accuracy'])"
      ]
    },
    {
      "cell_type": "code",
      "execution_count": null,
      "metadata": {
        "id": "vp9XSRMaAG3e"
      },
      "outputs": [],
      "source": [
        "history3 = tf_model3.fit(X_train, y_train, batch_size = 16, epochs = 100, initial_epoch = 0, validation_data = (X_test,y_test),callbacks=EarlyStopping(monitor=\"val_loss\", mode=\"min\", verbose=1, patience=10))"
      ]
    },
    {
      "cell_type": "code",
      "execution_count": null,
      "metadata": {
        "id": "UuB-cVI5CAc-"
      },
      "outputs": [],
      "source": [
        "y_predt = tf_model3.predict(X_test)\n",
        "y_predt= np.argmax(y_predt,axis=1)\n",
        "resultados[:,2]=y_predt\n",
        "y_predt = tf_model3.predict(X_test2)\n",
        "y_predt= np.argmax(y_predt,axis=1)\n",
        "resultados_test2[:,2]=y_predt"
      ]
    },
    {
      "cell_type": "code",
      "execution_count": null,
      "metadata": {
        "colab": {
          "base_uri": "https://localhost:8080/"
        },
        "id": "14pDg3I5Kmt2",
        "outputId": "5bc8dc22-51d2-4005-d0b7-46a8f23b5878"
      },
      "outputs": [
        {
          "output_type": "display_data",
          "data": {
            "text/plain": [
              "<IPython.core.display.Javascript object>"
            ],
            "application/javascript": [
              "\n",
              "    async function download(id, filename, size) {\n",
              "      if (!google.colab.kernel.accessAllowed) {\n",
              "        return;\n",
              "      }\n",
              "      const div = document.createElement('div');\n",
              "      const label = document.createElement('label');\n",
              "      label.textContent = `Downloading \"${filename}\": `;\n",
              "      div.appendChild(label);\n",
              "      const progress = document.createElement('progress');\n",
              "      progress.max = size;\n",
              "      div.appendChild(progress);\n",
              "      document.body.appendChild(div);\n",
              "\n",
              "      const buffers = [];\n",
              "      let downloaded = 0;\n",
              "\n",
              "      const channel = await google.colab.kernel.comms.open(id);\n",
              "      // Send a message to notify the kernel that we're ready.\n",
              "      channel.send({})\n",
              "\n",
              "      for await (const message of channel.messages) {\n",
              "        // Send a message to notify the kernel that we're ready.\n",
              "        channel.send({})\n",
              "        if (message.buffers) {\n",
              "          for (const buffer of message.buffers) {\n",
              "            buffers.push(buffer);\n",
              "            downloaded += buffer.byteLength;\n",
              "            progress.value = downloaded;\n",
              "          }\n",
              "        }\n",
              "      }\n",
              "      const blob = new Blob(buffers, {type: 'application/binary'});\n",
              "      const a = document.createElement('a');\n",
              "      a.href = window.URL.createObjectURL(blob);\n",
              "      a.download = filename;\n",
              "      div.appendChild(a);\n",
              "      a.click();\n",
              "      div.remove();\n",
              "    }\n",
              "  "
            ]
          },
          "metadata": {}
        },
        {
          "output_type": "display_data",
          "data": {
            "text/plain": [
              "<IPython.core.display.Javascript object>"
            ],
            "application/javascript": [
              "download(\"download_54787da2-06b7-4abf-b979-cb0360ebe535\", \"modelo3.pkl\", 211554368)"
            ]
          },
          "metadata": {}
        }
      ],
      "source": [
        "with open('modelo3.pkl', 'wb') as file:\n",
        "    pickle.dump(tf_model3, file)\n",
        "np.savetxt('resultadosfold0.csv', resultados, delimiter=',')\n",
        "np.savetxt('resultados_test2fold0.csv', resultados_test2, delimiter=',')"
      ]
    },
    {
      "cell_type": "markdown",
      "metadata": {
        "id": "dGYFXdLjGGbZ"
      },
      "source": [
        "#Modelo 4"
      ]
    },
    {
      "cell_type": "code",
      "execution_count": null,
      "metadata": {
        "id": "BnPlhYDpI95L"
      },
      "outputs": [],
      "source": [
        "densenet201 = tf.keras.applications.densenet.DenseNet201(input_shape=(256,256,3), include_top = False, weights= 'imagenet')\n",
        "x = densenet201.output\n",
        "x = Flatten()(x)\n",
        "\n",
        "x = Dense(128,activation='relu')(x)\n",
        "x = Dropout(0.5)(x)\n",
        "x = Dense(64,activation='relu')(x)\n",
        "x = Dropout(0.5)(x)\n",
        "out = Dense(2,activation='sigmoid')(x)\n",
        "tf_model4=Model(densenet201.input,outputs=out)\n",
        "\n",
        "tf_model4.compile(optimizer=tf.keras.optimizers.Adagrad(),loss=tf.keras.losses.binary_crossentropy, metrics=['accuracy'])"
      ]
    },
    {
      "cell_type": "code",
      "execution_count": null,
      "metadata": {
        "id": "Rhc1tI_iCDEj"
      },
      "outputs": [],
      "source": [
        "history4 = tf_model4.fit(X_train, y_train, batch_size = 16, epochs = 100, initial_epoch = 0, validation_data = (X_test,y_test),callbacks=EarlyStopping(monitor=\"val_loss\", mode=\"min\", verbose=1, patience=10))"
      ]
    },
    {
      "cell_type": "code",
      "execution_count": null,
      "metadata": {
        "id": "LDmnoRFnCDtm"
      },
      "outputs": [],
      "source": [
        "y_predt = tf_model4.predict(X_test)\n",
        "y_predt= np.argmax(y_predt,axis=1)\n",
        "resultados[:,3]=y_predt\n",
        "y_predt = tf_model4.predict(X_test2)\n",
        "y_predt= np.argmax(y_predt,axis=1)\n",
        "resultados_test2[:,3]=y_predt"
      ]
    },
    {
      "cell_type": "code",
      "execution_count": null,
      "metadata": {
        "colab": {
          "base_uri": "https://localhost:8080/"
        },
        "id": "GdJM-qdrOj1_",
        "outputId": "c7bdcca0-71eb-4f52-c222-3da7f2c1d7cc"
      },
      "outputs": [
        {
          "output_type": "display_data",
          "data": {
            "text/plain": [
              "<IPython.core.display.Javascript object>"
            ],
            "application/javascript": [
              "\n",
              "    async function download(id, filename, size) {\n",
              "      if (!google.colab.kernel.accessAllowed) {\n",
              "        return;\n",
              "      }\n",
              "      const div = document.createElement('div');\n",
              "      const label = document.createElement('label');\n",
              "      label.textContent = `Downloading \"${filename}\": `;\n",
              "      div.appendChild(label);\n",
              "      const progress = document.createElement('progress');\n",
              "      progress.max = size;\n",
              "      div.appendChild(progress);\n",
              "      document.body.appendChild(div);\n",
              "\n",
              "      const buffers = [];\n",
              "      let downloaded = 0;\n",
              "\n",
              "      const channel = await google.colab.kernel.comms.open(id);\n",
              "      // Send a message to notify the kernel that we're ready.\n",
              "      channel.send({})\n",
              "\n",
              "      for await (const message of channel.messages) {\n",
              "        // Send a message to notify the kernel that we're ready.\n",
              "        channel.send({})\n",
              "        if (message.buffers) {\n",
              "          for (const buffer of message.buffers) {\n",
              "            buffers.push(buffer);\n",
              "            downloaded += buffer.byteLength;\n",
              "            progress.value = downloaded;\n",
              "          }\n",
              "        }\n",
              "      }\n",
              "      const blob = new Blob(buffers, {type: 'application/binary'});\n",
              "      const a = document.createElement('a');\n",
              "      a.href = window.URL.createObjectURL(blob);\n",
              "      a.download = filename;\n",
              "      div.appendChild(a);\n",
              "      a.click();\n",
              "      div.remove();\n",
              "    }\n",
              "  "
            ]
          },
          "metadata": {}
        },
        {
          "output_type": "display_data",
          "data": {
            "text/plain": [
              "<IPython.core.display.Javascript object>"
            ],
            "application/javascript": [
              "download(\"download_0d4627d3-d077-4c1e-b011-a7ee53fc21b3\", \"modelo4.pkl\", 273848582)"
            ]
          },
          "metadata": {}
        }
      ],
      "source": [
        "with open('modelo4.pkl', 'wb') as file:\n",
        "    pickle.dump(tf_model4, file)\n",
        "np.savetxt('resultadosfold0.csv', resultados, delimiter=',')\n",
        "np.savetxt('resultados_test2fold0.csv', resultados_test2, delimiter=',')"
      ]
    },
    {
      "cell_type": "markdown",
      "metadata": {
        "id": "Pu8cxEVXGRBw"
      },
      "source": [
        "#Modelo 5"
      ]
    },
    {
      "cell_type": "code",
      "execution_count": null,
      "metadata": {
        "id": "1IU2XFNuI97Z"
      },
      "outputs": [],
      "source": [
        "inception_resnet_v2 = tf.keras.applications.inception_resnet_v2.InceptionResNetV2(input_shape=(256,256,3), include_top = False, weights= 'imagenet')\n",
        "x = inception_resnet_v2.output\n",
        "x = Flatten()(x)\n",
        "\n",
        "x = Dense(128,activation='relu')(x)\n",
        "x = Dropout(0.5)(x)\n",
        "x = Dense(64,activation='relu')(x)\n",
        "x = Dropout(0.5)(x)\n",
        "out = Dense(2,activation='sigmoid')(x)\n",
        "tf_model5=Model(inception_resnet_v2.input,outputs=out)\n",
        "\n",
        "tf_model5.compile(optimizer=tf.keras.optimizers.Adagrad(),loss=tf.keras.losses.binary_crossentropy, metrics=['accuracy'])"
      ]
    },
    {
      "cell_type": "code",
      "execution_count": null,
      "metadata": {
        "id": "OpuejWjhCSry"
      },
      "outputs": [],
      "source": [
        "history5 = tf_model5.fit(X_train, y_train, batch_size = 16, epochs = 100, initial_epoch = 0, validation_data = (X_test,y_test),callbacks=EarlyStopping(monitor=\"val_loss\", mode=\"min\", verbose=1, patience=10))"
      ]
    },
    {
      "cell_type": "code",
      "execution_count": null,
      "metadata": {
        "id": "sZ_kjtP7CGkW"
      },
      "outputs": [],
      "source": [
        "y_predt = tf_model5.predict(X_test)\n",
        "y_predt= np.argmax(y_predt,axis=1)\n",
        "resultados[:,4]=y_predt\n",
        "y_predt = tf_model5.predict(X_test2)\n",
        "y_predt= np.argmax(y_predt,axis=1)\n",
        "resultados_test2[:,4]=y_predt"
      ]
    },
    {
      "cell_type": "code",
      "execution_count": null,
      "metadata": {
        "colab": {
          "base_uri": "https://localhost:8080/"
        },
        "id": "j8dc2C23R2mZ",
        "outputId": "1ce842e4-7ad7-4ecc-c3cc-3c48e5807cab"
      },
      "outputs": [
        {
          "output_type": "display_data",
          "data": {
            "text/plain": [
              "<IPython.core.display.Javascript object>"
            ],
            "application/javascript": [
              "\n",
              "    async function download(id, filename, size) {\n",
              "      if (!google.colab.kernel.accessAllowed) {\n",
              "        return;\n",
              "      }\n",
              "      const div = document.createElement('div');\n",
              "      const label = document.createElement('label');\n",
              "      label.textContent = `Downloading \"${filename}\": `;\n",
              "      div.appendChild(label);\n",
              "      const progress = document.createElement('progress');\n",
              "      progress.max = size;\n",
              "      div.appendChild(progress);\n",
              "      document.body.appendChild(div);\n",
              "\n",
              "      const buffers = [];\n",
              "      let downloaded = 0;\n",
              "\n",
              "      const channel = await google.colab.kernel.comms.open(id);\n",
              "      // Send a message to notify the kernel that we're ready.\n",
              "      channel.send({})\n",
              "\n",
              "      for await (const message of channel.messages) {\n",
              "        // Send a message to notify the kernel that we're ready.\n",
              "        channel.send({})\n",
              "        if (message.buffers) {\n",
              "          for (const buffer of message.buffers) {\n",
              "            buffers.push(buffer);\n",
              "            downloaded += buffer.byteLength;\n",
              "            progress.value = downloaded;\n",
              "          }\n",
              "        }\n",
              "      }\n",
              "      const blob = new Blob(buffers, {type: 'application/binary'});\n",
              "      const a = document.createElement('a');\n",
              "      a.href = window.URL.createObjectURL(blob);\n",
              "      a.download = filename;\n",
              "      div.appendChild(a);\n",
              "      a.click();\n",
              "      div.remove();\n",
              "    }\n",
              "  "
            ]
          },
          "metadata": {}
        },
        {
          "output_type": "display_data",
          "data": {
            "text/plain": [
              "<IPython.core.display.Javascript object>"
            ],
            "application/javascript": [
              "download(\"download_ba1b5e36-47a6-4987-905f-fe189c7d7d0b\", \"modelo5.pkl\", 493540146)"
            ]
          },
          "metadata": {}
        }
      ],
      "source": [
        "with open('modelo5.pkl', 'wb') as file:\n",
        "    pickle.dump(tf_model5, file)\n",
        "np.savetxt('resultadosfold0.csv', resultados, delimiter=',')\n",
        "np.savetxt('resultados_test2fold0.csv', resultados_test2, delimiter=',')"
      ]
    },
    {
      "cell_type": "markdown",
      "metadata": {
        "id": "A61Z0MUUGduo"
      },
      "source": [
        "#Modelo 6"
      ]
    },
    {
      "cell_type": "code",
      "execution_count": null,
      "metadata": {
        "id": "h3eZcuhBHDmM"
      },
      "outputs": [],
      "source": [
        "resnet50 = tf.keras.applications.resnet.ResNet50(input_shape=(256,256,3), include_top = False, weights= 'imagenet')\n",
        "x = resnet50.output\n",
        "x = Flatten()(x)\n",
        "\n",
        "x = Dense(128,activation='relu')(x)\n",
        "x = Dropout(0.5)(x)\n",
        "x = Dense(64,activation='relu')(x)\n",
        "x = Dropout(0.5)(x)\n",
        "out = Dense(2,activation='sigmoid')(x)\n",
        "tf_model6=Model(resnet50.input,outputs=out)\n",
        "\n",
        "tf_model6.compile(optimizer=tf.keras.optimizers.Adagrad(),loss=tf.keras.losses.binary_crossentropy, metrics=['accuracy'])"
      ]
    },
    {
      "cell_type": "code",
      "execution_count": null,
      "metadata": {
        "id": "6FzYrlIeCkGG"
      },
      "outputs": [],
      "source": [
        "history6 = tf_model6.fit(X_train, y_train, batch_size = 16, epochs = 100, initial_epoch = 0, validation_data = (X_test,y_test),callbacks=EarlyStopping(monitor=\"val_loss\", mode=\"min\", verbose=1, patience=10))"
      ]
    },
    {
      "cell_type": "code",
      "execution_count": null,
      "metadata": {
        "id": "VxA7TILCCL2e"
      },
      "outputs": [],
      "source": [
        "y_predt = tf_model6.predict(X_test)\n",
        "y_predt= np.argmax(y_predt,axis=1)\n",
        "resultados[:,5]=y_predt\n",
        "y_predt = tf_model6.predict(X_test2)\n",
        "y_predt= np.argmax(y_predt,axis=1)\n",
        "resultados_test2[:,5]=y_predt"
      ]
    },
    {
      "cell_type": "code",
      "execution_count": null,
      "metadata": {
        "id": "WH6BeKZjWMsu"
      },
      "outputs": [],
      "source": [
        "with open('modelo6.pkl', 'wb') as file:\n",
        "    pickle.dump(tf_model6, file)\n",
        "np.savetxt('resultadosfold0.csv', resultados, delimiter=',')\n",
        "np.savetxt('resultados_test2fold0.csv', resultados_test2, delimiter=',')"
      ]
    },
    {
      "cell_type": "markdown",
      "metadata": {
        "id": "H4_ybIYzGmGQ"
      },
      "source": [
        "#Modelo 7\n"
      ]
    },
    {
      "cell_type": "code",
      "execution_count": null,
      "metadata": {
        "id": "uHoKSm93LeS8"
      },
      "outputs": [],
      "source": [
        "resnet101 = tf.keras.applications.resnet.ResNet101(input_shape=(256,256,3), include_top = False, weights= 'imagenet')\n",
        "x = resnet101.output\n",
        "x = Flatten()(x)\n",
        "\n",
        "x = Dense(128,activation='relu')(x)\n",
        "x = Dropout(0.5)(x)\n",
        "x = Dense(64,activation='relu')(x)\n",
        "x = Dropout(0.5)(x)\n",
        "out = Dense(2,activation='sigmoid')(x)\n",
        "tf_model7=Model(resnet101.input,outputs=out)\n",
        "\n",
        "tf_model7.compile(optimizer=tf.keras.optimizers.Adagrad(),loss=tf.keras.losses.binary_crossentropy, metrics=['accuracy'])"
      ]
    },
    {
      "cell_type": "code",
      "execution_count": null,
      "metadata": {
        "id": "IfmRGJEBCxFY"
      },
      "outputs": [],
      "source": [
        "history7 = tf_model7.fit(X_train, y_train, batch_size = 16, epochs = 100, initial_epoch = 0, validation_data = (X_test,y_test),callbacks=EarlyStopping(monitor=\"val_loss\", mode=\"min\", verbose=1, patience=10))"
      ]
    },
    {
      "cell_type": "code",
      "execution_count": null,
      "metadata": {
        "id": "B52jnmzKCQA3"
      },
      "outputs": [],
      "source": [
        "y_predt = tf_model7.predict(X_test)\n",
        "y_predt= np.argmax(y_predt,axis=1)\n",
        "resultados[:,6]=y_predt\n",
        "y_predt = tf_model7.predict(X_test2)\n",
        "y_predt= np.argmax(y_predt,axis=1)\n",
        "resultados_test2[:,6]=y_predt"
      ]
    },
    {
      "cell_type": "code",
      "execution_count": null,
      "metadata": {
        "id": "ocgkOYEWWPdB"
      },
      "outputs": [],
      "source": [
        "with open('modelo7.pkl', 'wb') as file:\n",
        "    pickle.dump(tf_model7, file)\n",
        "np.savetxt('resultadosfold0.csv', resultados, delimiter=',')\n",
        "np.savetxt('resultados_test2fold0.csv', resultados_test2, delimiter=',')"
      ]
    },
    {
      "cell_type": "markdown",
      "metadata": {
        "id": "QA-WXQWnG3OQ"
      },
      "source": [
        "#Modelo 8\n"
      ]
    },
    {
      "cell_type": "code",
      "execution_count": null,
      "metadata": {
        "id": "AAhPpxHULxpK"
      },
      "outputs": [],
      "source": [
        "resnet152 = tf.keras.applications.resnet.ResNet152(input_shape=(256,256,3), include_top = False, weights= 'imagenet')\n",
        "x = resnet152.output\n",
        "x = Flatten()(x)\n",
        "\n",
        "x = Dense(128,activation='relu')(x)\n",
        "x = Dropout(0.5)(x)\n",
        "x = Dense(64,activation='relu')(x)\n",
        "x = Dropout(0.5)(x)\n",
        "out = Dense(2,activation='sigmoid')(x)\n",
        "tf_model8=Model(resnet152.input,outputs=out)\n",
        "\n",
        "tf_model8.compile(optimizer=tf.keras.optimizers.Adagrad(),loss=tf.keras.losses.binary_crossentropy, metrics=['accuracy'])"
      ]
    },
    {
      "cell_type": "code",
      "execution_count": null,
      "metadata": {
        "id": "XLtniqajC-Fp"
      },
      "outputs": [],
      "source": [
        "history8 = tf_model8.fit(X_train, y_train, batch_size = 16, epochs = 100, initial_epoch = 0, validation_data = (X_test,y_test),callbacks=EarlyStopping(monitor=\"val_loss\", mode=\"min\", verbose=1, patience=10))"
      ]
    },
    {
      "cell_type": "code",
      "execution_count": null,
      "metadata": {
        "id": "jclHRGXICUFW"
      },
      "outputs": [],
      "source": [
        "y_predt = tf_model8.predict(X_test)\n",
        "y_predt= np.argmax(y_predt,axis=1)\n",
        "resultados[:,7]=y_predt\n",
        "y_predt = tf_model8.predict(X_test2)\n",
        "y_predt= np.argmax(y_predt,axis=1)\n",
        "resultados_test2[:,7]=y_predt"
      ]
    },
    {
      "cell_type": "code",
      "execution_count": null,
      "metadata": {
        "id": "eaOBjpR8WSoI"
      },
      "outputs": [],
      "source": [
        "with open('modelo8.pkl', 'wb') as file:\n",
        "    pickle.dump(tf_model8, file)\n",
        "np.savetxt('resultadosfold0.csv', resultados, delimiter=',')\n",
        "np.savetxt('resultados_test2fold0.csv', resultados_test2, delimiter=',')"
      ]
    },
    {
      "cell_type": "markdown",
      "metadata": {
        "id": "eW0mjD5tHCtZ"
      },
      "source": [
        "#Modelo 9"
      ]
    },
    {
      "cell_type": "code",
      "execution_count": null,
      "metadata": {
        "id": "LbkTHKdoLxsY"
      },
      "outputs": [],
      "source": [
        "resnet_50v2 = tf.keras.applications.resnet_v2.ResNet50V2(input_shape=(256,256,3), include_top = False, weights= 'imagenet')\n",
        "x = resnet_50v2.output\n",
        "x = Flatten()(x)\n",
        "\n",
        "x = Dense(128,activation='relu')(x)\n",
        "x = Dropout(0.5)(x)\n",
        "x = Dense(64,activation='relu')(x)\n",
        "x = Dropout(0.5)(x)\n",
        "out = Dense(2,activation='sigmoid')(x)\n",
        "tf_model9=Model(resnet_50v2.input,outputs=out)\n",
        "\n",
        "tf_model9.compile(optimizer=tf.keras.optimizers.Adagrad(),loss=tf.keras.losses.binary_crossentropy, metrics=['accuracy'])"
      ]
    },
    {
      "cell_type": "code",
      "execution_count": null,
      "metadata": {
        "id": "UU7vLeodDKKx"
      },
      "outputs": [],
      "source": [
        "history9 = tf_model9.fit(X_train, y_train, batch_size = 16, epochs = 100, initial_epoch = 0, validation_data = (X_test,y_test),callbacks=EarlyStopping(monitor=\"val_loss\", mode=\"min\", verbose=1, patience=10))"
      ]
    },
    {
      "cell_type": "code",
      "execution_count": null,
      "metadata": {
        "id": "jNzlA3gbCXTP"
      },
      "outputs": [],
      "source": [
        "y_predt = tf_model9.predict(X_test)\n",
        "y_predt= np.argmax(y_predt,axis=1)\n",
        "resultados[:,8]=y_predt\n",
        "y_predt = tf_model9.predict(X_test2)\n",
        "y_predt= np.argmax(y_predt,axis=1)\n",
        "resultados_test2[:,8]=y_predt"
      ]
    },
    {
      "cell_type": "code",
      "execution_count": null,
      "metadata": {
        "id": "zsJDM62oWWR5"
      },
      "outputs": [],
      "source": [
        "with open('modelo9.pkl', 'wb') as file:\n",
        "    pickle.dump(tf_model9, file)\n",
        "np.savetxt('resultadosfold0.csv', resultados, delimiter=',')\n",
        "np.savetxt('resultados_test2fold0.csv', resultados_test2, delimiter=',')"
      ]
    },
    {
      "cell_type": "markdown",
      "metadata": {
        "id": "qiPUzJTuHNDi"
      },
      "source": [
        "#Modelo 10"
      ]
    },
    {
      "cell_type": "code",
      "execution_count": null,
      "metadata": {
        "id": "TfWqodTXLxvb"
      },
      "outputs": [],
      "source": [
        "resnet_101v2 = tf.keras.applications.resnet_v2.ResNet101V2(input_shape=(256,256,3), include_top = False, weights= 'imagenet')\n",
        "x = resnet_101v2.output\n",
        "x = Flatten()(x)\n",
        "\n",
        "x = Dense(128,activation='relu')(x)\n",
        "x = Dropout(0.5)(x)\n",
        "x = Dense(64,activation='relu')(x)\n",
        "x = Dropout(0.5)(x)\n",
        "out = Dense(2,activation='sigmoid')(x)\n",
        "tf_model10=Model(resnet_101v2.input,outputs=out)\n",
        "\n",
        "tf_model10.compile(optimizer=tf.keras.optimizers.Adagrad(),loss=tf.keras.losses.binary_crossentropy, metrics=['accuracy'])"
      ]
    },
    {
      "cell_type": "code",
      "execution_count": null,
      "metadata": {
        "id": "IETPDHaBDWKz"
      },
      "outputs": [],
      "source": [
        "history10 = tf_model10.fit(X_train, y_train, batch_size = 16, epochs = 100, initial_epoch = 0, validation_data = (X_test,y_test),callbacks=EarlyStopping(monitor=\"val_loss\", mode=\"min\", verbose=1, patience=10))"
      ]
    },
    {
      "cell_type": "code",
      "execution_count": null,
      "metadata": {
        "id": "EljrGDBZCdVX"
      },
      "outputs": [],
      "source": [
        "y_predt = tf_model10.predict(X_test)\n",
        "y_predt= np.argmax(y_predt,axis=1)\n",
        "resultados[:,9]=y_predt\n",
        "y_predt = tf_model10.predict(X_test2)\n",
        "y_predt= np.argmax(y_predt,axis=1)\n",
        "resultados_test2[:,9]=y_predt"
      ]
    },
    {
      "cell_type": "code",
      "execution_count": null,
      "metadata": {
        "id": "Ea1GmAzGWZyH"
      },
      "outputs": [],
      "source": [
        "with open('modelo10.pkl', 'wb') as file:\n",
        "    pickle.dump(tf_model10, file)\n",
        "np.savetxt('resultadosfold0.csv', resultados, delimiter=',')\n",
        "np.savetxt('resultados_test2fold0.csv', resultados_test2, delimiter=',')"
      ]
    },
    {
      "cell_type": "markdown",
      "metadata": {
        "id": "H5u6ngA1HVCy"
      },
      "source": [
        "#Modelo 11"
      ]
    },
    {
      "cell_type": "code",
      "execution_count": null,
      "metadata": {
        "id": "X8YdXbXyLxyf"
      },
      "outputs": [],
      "source": [
        "resnet_152v2 = tf.keras.applications.resnet_v2.ResNet101V2(input_shape=(256,256,3), include_top = False, weights= 'imagenet')\n",
        "x = resnet_152v2.output\n",
        "x = Flatten()(x)\n",
        "\n",
        "x = Dense(128,activation='relu')(x)\n",
        "x = Dropout(0.5)(x)\n",
        "x = Dense(64,activation='relu')(x)\n",
        "x = Dropout(0.5)(x)\n",
        "out = Dense(2,activation='sigmoid')(x)\n",
        "tf_model11=Model(resnet_152v2.input,outputs=out)\n",
        "\n",
        "tf_model11.compile(optimizer=tf.keras.optimizers.Adagrad(),loss=tf.keras.losses.binary_crossentropy, metrics=['accuracy'])"
      ]
    },
    {
      "cell_type": "code",
      "execution_count": null,
      "metadata": {
        "id": "lQlQmEqLDhnr"
      },
      "outputs": [],
      "source": [
        "history11 = tf_model11.fit(X_train, y_train, batch_size = 16, epochs = 100, initial_epoch = 0, validation_data = (X_test,y_test),callbacks=EarlyStopping(monitor=\"val_loss\", mode=\"min\", verbose=1, patience=10))"
      ]
    },
    {
      "cell_type": "code",
      "execution_count": null,
      "metadata": {
        "id": "wHuyjaCcCiBn"
      },
      "outputs": [],
      "source": [
        "y_predt = tf_model11.predict(X_test)\n",
        "y_predt= np.argmax(y_predt,axis=1)\n",
        "resultados[:,10]=y_predt\n",
        "y_predt = tf_model11.predict(X_test2)\n",
        "y_predt= np.argmax(y_predt,axis=1)\n",
        "resultados_test2[:,10]=y_predt"
      ]
    },
    {
      "cell_type": "code",
      "execution_count": null,
      "metadata": {
        "id": "5NkVuW29WcWf"
      },
      "outputs": [],
      "source": [
        "with open('modelo11.pkl', 'wb') as file:\n",
        "    pickle.dump(tf_model11, file)\n",
        "np.savetxt('resultadosfold0.csv', resultados, delimiter=',')\n",
        "np.savetxt('resultados_test2fold0.csv', resultados_test2, delimiter=',')"
      ]
    },
    {
      "cell_type": "markdown",
      "metadata": {
        "id": "CJYuFH48HdWB"
      },
      "source": [
        "#Modelo 12"
      ]
    },
    {
      "cell_type": "code",
      "execution_count": null,
      "metadata": {
        "id": "s5201nvELx2B"
      },
      "outputs": [],
      "source": [
        "Xception = tf.keras.applications.xception.Xception(input_shape=(256,256,3), include_top = False, weights= 'imagenet')\n",
        "x = Xception.output\n",
        "x = Flatten()(x)\n",
        "\n",
        "x = Dense(128,activation='relu')(x)\n",
        "x = Dropout(0.5)(x)\n",
        "x = Dense(64,activation='relu')(x)\n",
        "x = Dropout(0.5)(x)\n",
        "out = Dense(2,activation='sigmoid')(x)\n",
        "tf_model12=Model(Xception.input,outputs=out)\n",
        "\n",
        "tf_model12.compile(optimizer=tf.keras.optimizers.Adagrad(),loss=tf.keras.losses.binary_crossentropy, metrics=['accuracy'])"
      ]
    },
    {
      "cell_type": "code",
      "execution_count": null,
      "metadata": {
        "id": "UrBFaRBiDviZ"
      },
      "outputs": [],
      "source": [
        "history12 = tf_model12.fit(X_train, y_train, batch_size = 16, epochs = 100, initial_epoch = 0, validation_data = (X_test,y_test),callbacks=EarlyStopping(monitor=\"val_loss\", mode=\"min\", verbose=1, patience=10))"
      ]
    },
    {
      "cell_type": "code",
      "execution_count": null,
      "metadata": {
        "id": "1stvrFL7CmdA"
      },
      "outputs": [],
      "source": [
        "y_predt = tf_model12.predict(X_test)\n",
        "y_predt= np.argmax(y_predt,axis=1)\n",
        "resultados[:,11]=y_predt\n",
        "y_predt = tf_model12.predict(X_test2)\n",
        "y_predt= np.argmax(y_predt,axis=1)\n",
        "resultados_test2[:,11]=y_predt"
      ]
    },
    {
      "cell_type": "code",
      "execution_count": null,
      "metadata": {
        "id": "l9sd97-pWepz"
      },
      "outputs": [],
      "source": [
        "with open('modelo12.pkl', 'wb') as file:\n",
        "    pickle.dump(tf_model12, file)\n",
        "np.savetxt('resultadosfold0.csv', resultados, delimiter=',')\n",
        "np.savetxt('resultados_test2fold0.csv', resultados_test2, delimiter=',')"
      ]
    },
    {
      "cell_type": "markdown",
      "metadata": {
        "id": "YDrZEqz3Hl3Q"
      },
      "source": [
        "#Modelo 13"
      ]
    },
    {
      "cell_type": "code",
      "execution_count": null,
      "metadata": {
        "id": "qAGWo6jyMniF"
      },
      "outputs": [],
      "source": [
        "MobileNet = tf.keras.applications.mobilenet.MobileNet(input_shape=(256,256,3), include_top = False, weights= 'imagenet')\n",
        "x = MobileNet.output\n",
        "x = Flatten()(x)\n",
        "\n",
        "x = Dense(128,activation='relu')(x)\n",
        "x = Dropout(0.5)(x)\n",
        "x = Dense(64,activation='relu')(x)\n",
        "x = Dropout(0.5)(x)\n",
        "out = Dense(2,activation='sigmoid')(x)\n",
        "tf_model13=Model(MobileNet.input,outputs=out)\n",
        "tf_model13.compile(optimizer=tf.keras.optimizers.Adagrad(),loss=tf.keras.losses.binary_crossentropy, metrics=['accuracy'])"
      ]
    },
    {
      "cell_type": "code",
      "execution_count": null,
      "metadata": {
        "id": "VKZ3FsZTD-XL"
      },
      "outputs": [],
      "source": [
        "history13 = tf_model13.fit(X_train, y_train, batch_size = 16, epochs = 100, initial_epoch = 0, validation_data = (X_test,y_test),callbacks=EarlyStopping(monitor=\"val_loss\", mode=\"min\", verbose=1, patience=10))"
      ]
    },
    {
      "cell_type": "code",
      "execution_count": null,
      "metadata": {
        "id": "YMsPQHb8Cr0H"
      },
      "outputs": [],
      "source": [
        "y_predt = tf_model13.predict(X_test)\n",
        "y_predt= np.argmax(y_predt,axis=1)\n",
        "resultados[:,12]=y_predt\n",
        "y_predt = tf_model13.predict(X_test2)\n",
        "y_predt= np.argmax(y_predt,axis=1)\n",
        "resultados_test2[:,12]=y_predt"
      ]
    },
    {
      "cell_type": "code",
      "execution_count": null,
      "metadata": {
        "id": "k6VFIICQWh9f"
      },
      "outputs": [],
      "source": [
        "with open('modelo13.pkl', 'wb') as file:\n",
        "    pickle.dump(tf_model13, file)\n",
        "np.savetxt('resultadosfold0.csv', resultados, delimiter=',')\n",
        "np.savetxt('resultados_test2fold0.csv', resultados_test2, delimiter=',')"
      ]
    },
    {
      "cell_type": "code",
      "execution_count": null,
      "metadata": {
        "id": "kOizep3-lDH-"
      },
      "outputs": [],
      "source": [
        "files.download('resultados_test2fold0.csv')"
      ]
    },
    {
      "cell_type": "code",
      "execution_count": null,
      "metadata": {
        "id": "-4jCqfSco9If"
      },
      "outputs": [],
      "source": [
        "files.download('resultadosfold0.csv')"
      ]
    }
  ],
  "metadata": {
    "accelerator": "GPU",
    "colab": {
      "provenance": [],
      "include_colab_link": true
    },
    "kernelspec": {
      "display_name": "Python 3",
      "name": "python3"
    }
  },
  "nbformat": 4,
  "nbformat_minor": 0
}